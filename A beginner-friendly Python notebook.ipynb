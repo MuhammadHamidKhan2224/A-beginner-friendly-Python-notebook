{
 "cells": [
  {
   "cell_type": "markdown",
   "id": "64664f36-67e9-49d1-8619-d62dbaf40c98",
   "metadata": {},
   "source": [
    "# Name: Muhammad Hamid Khan\n",
    "# Roll No: 24i-7352\n",
    "# Subject: Programing for Business Application\n",
    "# Course: Master in Business Analytics\n",
    "# Topic: Python Fundamentals"
   ]
  },
  {
   "cell_type": "markdown",
   "id": "06079763-a6a0-4bd8-991c-4d8063e5987e",
   "metadata": {},
   "source": [
    "# ---------------------------------------------------------------------------------------"
   ]
  },
  {
   "cell_type": "markdown",
   "id": "239e56ec-6895-4b93-8b67-4cc90fdb2fc3",
   "metadata": {},
   "source": [
    "# 1: Variables in Programming"
   ]
  },
  {
   "cell_type": "markdown",
   "id": "9720f179-0f8d-435b-9e54-3855b029d130",
   "metadata": {},
   "source": [
    "### \n",
    "Data consists of raw facts about something. It could be any information or knowledge that describes something and is referred to as data. To store this information, it needs to be placed in a specific location with a designated name for later use. This is where variables come into play. Variables allow us to assign information a specific name (naming convention) so that it can be accessed later\n",
    "\n",
    "#### Variables are temporary storage where values are stored. The semantic meaning of variable is varying or changing. We can assign this variable to another variable and can change the value of that variable as well. "
   ]
  },
  {
   "cell_type": "markdown",
   "id": "0d2aae24-224f-4d28-813e-73d2149fc19b",
   "metadata": {},
   "source": [
    "# Example 01: "
   ]
  },
  {
   "cell_type": "code",
   "execution_count": 16,
   "id": "a94704b7-6f29-4e87-bd50-d34ec8fe87a1",
   "metadata": {},
   "outputs": [],
   "source": [
    "my_name = \"Muhammad Hamid Khan\""
   ]
  },
  {
   "cell_type": "code",
   "execution_count": 18,
   "id": "c67dc2cb-3b9d-4577-9906-cc0137864410",
   "metadata": {},
   "outputs": [
    {
     "data": {
      "text/plain": [
       "'Muhammad Hamid Khan'"
      ]
     },
     "execution_count": 18,
     "metadata": {},
     "output_type": "execute_result"
    }
   ],
   "source": [
    "my_name"
   ]
  },
  {
   "cell_type": "markdown",
   "id": "327d0c24-86e4-4f26-afc6-7d3c82303f4a",
   "metadata": {},
   "source": [
    "##### Here I have stored my name in the \"my_name\" variable. Wherever, and whenever, I want to call it, or use it, I will call my_name, and it automatically gives my name, Because my name is assigned to this variable. \n"
   ]
  },
  {
   "cell_type": "markdown",
   "id": "61652678-87c6-44fc-b7f3-27b4230c6404",
   "metadata": {},
   "source": [
    "# Example 02:"
   ]
  },
  {
   "cell_type": "code",
   "execution_count": 23,
   "id": "7d92a233-d15b-436b-b1c1-df671c9d3599",
   "metadata": {},
   "outputs": [],
   "source": [
    "my_current_status = \"I am currently doing my Master in Business Analytics. Also, I am doing job as Tech Fellow based in Islamabad\" "
   ]
  },
  {
   "cell_type": "code",
   "execution_count": 25,
   "id": "36a441af-ebb7-47f1-9c1b-4a7f8d0db7cb",
   "metadata": {},
   "outputs": [
    {
     "data": {
      "text/plain": [
       "'I am currently doing my Master in Business Analytics. Also, I am doing job as Tech Fellow based in Islamabad'"
      ]
     },
     "execution_count": 25,
     "metadata": {},
     "output_type": "execute_result"
    }
   ],
   "source": [
    "my_current_status"
   ]
  },
  {
   "cell_type": "markdown",
   "id": "d929ae5f-8a5a-4db9-9f41-84918a10fa76",
   "metadata": {},
   "source": [
    "##### Here, I have stored piece on information about my profession and present time social status. I will simply call the variable named \"my_current_status\" when I need to refer or tell about my self to someone. "
   ]
  },
  {
   "cell_type": "markdown",
   "id": "b77ab1df-5fdd-4c7b-9505-2017ff4e8196",
   "metadata": {},
   "source": [
    "# Example 03:"
   ]
  },
  {
   "cell_type": "code",
   "execution_count": 32,
   "id": "52435ab7-99d8-4a45-915e-d61c0b7d25c6",
   "metadata": {},
   "outputs": [],
   "source": [
    "a, b = 20, 30"
   ]
  },
  {
   "cell_type": "markdown",
   "id": "8089670f-e8bf-4014-ab5d-57082304c48d",
   "metadata": {},
   "source": [
    "##### Here, I have assigned 20 and 30 values to two variables a and b respectively."
   ]
  },
  {
   "cell_type": "markdown",
   "id": "ddfea2e3-edfd-431e-8f54-5d6c502be69e",
   "metadata": {},
   "source": [
    "### Performing some basic arithmatic operations by using a and b."
   ]
  },
  {
   "cell_type": "code",
   "execution_count": null,
   "id": "e45dda54-2f72-49de-89ac-2501aa1d465e",
   "metadata": {},
   "outputs": [],
   "source": [
    "# Addition"
   ]
  },
  {
   "cell_type": "code",
   "execution_count": 37,
   "id": "e58b9b66-83e3-4489-92b9-de00f634c768",
   "metadata": {},
   "outputs": [
    {
     "data": {
      "text/plain": [
       "50"
      ]
     },
     "execution_count": 37,
     "metadata": {},
     "output_type": "execute_result"
    }
   ],
   "source": [
    "a + b "
   ]
  },
  {
   "cell_type": "code",
   "execution_count": null,
   "id": "125a846f-1d43-435f-bd65-7bb5ca6f099c",
   "metadata": {},
   "outputs": [],
   "source": [
    "# Subtraction "
   ]
  },
  {
   "cell_type": "code",
   "execution_count": 39,
   "id": "d3b7837e-d1a7-480c-9c9f-4979aedc0e6f",
   "metadata": {},
   "outputs": [
    {
     "data": {
      "text/plain": [
       "-10"
      ]
     },
     "execution_count": 39,
     "metadata": {},
     "output_type": "execute_result"
    }
   ],
   "source": [
    "a - b"
   ]
  },
  {
   "cell_type": "code",
   "execution_count": null,
   "id": "85d5c232-13df-49a8-84ae-17e4c0557207",
   "metadata": {},
   "outputs": [],
   "source": [
    "# Multiplication"
   ]
  },
  {
   "cell_type": "markdown",
   "id": "5246dfa4-e825-4df5-a6f5-30d75034706e",
   "metadata": {},
   "source": [
    "a * b"
   ]
  },
  {
   "cell_type": "code",
   "execution_count": null,
   "id": "8c5ac035-87a6-41d0-b1a6-03c5b1eba5a0",
   "metadata": {},
   "outputs": [],
   "source": [
    "# Division"
   ]
  },
  {
   "cell_type": "code",
   "execution_count": 43,
   "id": "ca4c4d4c-0756-49d2-8e64-d4410c993e03",
   "metadata": {},
   "outputs": [
    {
     "data": {
      "text/plain": [
       "0.6666666666666666"
      ]
     },
     "execution_count": 43,
     "metadata": {},
     "output_type": "execute_result"
    }
   ],
   "source": [
    "a / b"
   ]
  },
  {
   "cell_type": "markdown",
   "id": "56c2142a-169e-44fd-885c-2cc556d96210",
   "metadata": {},
   "source": [
    "#### Instead of values, used variables which have these values. "
   ]
  },
  {
   "cell_type": "markdown",
   "id": "fc4242fd-7b44-481d-a14b-e92395354902",
   "metadata": {},
   "source": [
    "# Decision Making Statements"
   ]
  },
  {
   "cell_type": "markdown",
   "id": "23aa009f-0dff-4dc7-bf48-3aaf51bcf89f",
   "metadata": {},
   "source": [
    "### Decision-making statements are conditional statements. It is basically, making a decision based on condition and you have options to choose from. It follows if-else, if-elif, and also nested-if. Decision-making statements are very crucial in real-world programming applications. "
   ]
  },
  {
   "cell_type": "markdown",
   "id": "69788011-aee7-4fcc-a0f7-901bdf9d7ec4",
   "metadata": {},
   "source": [
    "# Example 03: "
   ]
  },
  {
   "cell_type": "code",
   "execution_count": 381,
   "id": "729f0c9c-c9ac-44b7-a7da-8607f8bf5c21",
   "metadata": {},
   "outputs": [
    {
     "name": "stdin",
     "output_type": "stream",
     "text": [
      "𝙀𝒏𝙩𝒆𝙧 𝙮𝒐𝙪𝒓 𝑷𝙖𝒔𝙨𝒘𝙤𝒓𝙙:  khan@121314\n"
     ]
    },
    {
     "name": "stdout",
     "output_type": "stream",
     "text": [
      "Yᴏᴜ ᴀʀᴇ ᴡᴇʟᴄᴏᴍᴇ ᴛᴏ ᴛʜᴇ Pᴀɢᴇ\n"
     ]
    }
   ],
   "source": [
    "# Define the correct password\n",
    "Password = \"khan@121314\"\n",
    "\n",
    "# Prompt the user to enter their password\n",
    "password = str(input(\"𝙀𝒏𝙩𝒆𝙧 𝙮𝒐𝙪𝒓 𝑷𝙖𝒔𝙨𝒘𝙤𝒓𝙙: \"))\n",
    "\n",
    "# Check if the entered password matches the stored password\n",
    "if password == Password:\n",
    "    print(\"Yᴏᴜ ᴀʀᴇ ᴡᴇʟᴄᴏᴍᴇ ᴛᴏ ᴛʜᴇ Pᴀɢᴇ\")\n",
    "else:\n",
    "    print(\"𝑌o𝑢r p𝑎s𝑠w𝑜r𝑑 𝑖n I𝑛c𝑜r𝑟e𝑐t. 𝑈s𝑒 𝑦o𝑢r c𝑜r𝑟e𝑐t C𝑟e𝑑e𝑛t𝑖a𝑙s\")\n"
   ]
  },
  {
   "cell_type": "code",
   "execution_count": null,
   "id": "54b779ca-8fd1-4223-96b6-bc473a91f733",
   "metadata": {},
   "outputs": [],
   "source": []
  },
  {
   "cell_type": "markdown",
   "id": "9e3e1141-fc5c-4163-8219-0ec9605136bd",
   "metadata": {},
   "source": [
    "# Example 02:"
   ]
  },
  {
   "cell_type": "markdown",
   "id": "2b7c47ad-44b5-4913-b40d-ef0b729a4a82",
   "metadata": {},
   "source": [
    "### Suppose You have been assigned to design a program \"Assign Labels to Students Based on there Marks\".Student will come, give input to the program, they will be labeled based on the conditions set in the program. "
   ]
  },
  {
   "cell_type": "code",
   "execution_count": 80,
   "id": "0cc707f0-50f2-4471-9aa7-6c2527ba85a9",
   "metadata": {},
   "outputs": [
    {
     "name": "stdin",
     "output_type": "stream",
     "text": [
      "𝘼𝙙𝙙 𝙮𝙤𝙪𝙧 𝙢𝙖𝙧𝙠𝙨:   45\n"
     ]
    },
    {
     "name": "stdout",
     "output_type": "stream",
     "text": [
      "𝔽𝕒𝕚𝕝! 𝕋𝕣𝕪 𝕟𝕖𝕩𝕥 𝕥𝕚𝕞𝕖\n"
     ]
    }
   ],
   "source": [
    "Your_marks = int(input(\"𝘼𝙙𝙙 𝙮𝙤𝙪𝙧 𝙢𝙖𝙧𝙠𝙨:  \"))\n",
    "if Your_marks >= 90:\n",
    "    print(\"𝓔𝔁𝓬𝓮𝓵𝓵𝓮𝓷𝓽\")\n",
    "elif Your_marks < 90  and Your_marks >= 80:\n",
    "    print(\"𝒱𝓮𝓇𝔂 𝓖ℴ𝓸𝒹\")\n",
    "elif  Your_marks < 80 and  Your_marks >= 70:\n",
    "    print(\"Ɠơơɗ\")\n",
    "elif  Your_marks < 70 and  Your_marks >= 60:\n",
    "    print(\"Ƒᶏᶖᶉ\")\n",
    "elif  Your_marks < 60 and  Your_marks >= 50:\n",
    "    print(\"𝓟𝒶𝓼𝓈\")\n",
    "else: \n",
    "    print(\"𝔽𝕒𝕚𝕝! 𝕋𝕣𝕪 𝕟𝕖𝕩𝕥 𝕥𝕚𝕞𝕖\") "
   ]
  },
  {
   "cell_type": "markdown",
   "id": "17042de9-cebd-4fce-87ee-e718f866108a",
   "metadata": {},
   "source": [
    "# Example 03:"
   ]
  },
  {
   "cell_type": "markdown",
   "id": "d7c7ea3a-10cd-456d-ad0c-93dbb7d3e1d8",
   "metadata": {},
   "source": [
    "### Suppose your Finance Manager has assigned you a task to design a program. He wants to give discounts to customers based on some specific conditions. Users have to put the total amount value.\n",
    "### Conditions:\n",
    "#### 1: 15% discount If purchases above $5000\n",
    "\n",
    "#### 2: 10% discount If purchases above $4000\n",
    "\n",
    "#### 3: 5% discount If purchases above $3000"
   ]
  },
  {
   "cell_type": "code",
   "execution_count": 99,
   "id": "80cba814-54c6-4a78-a20d-2c3e536122ea",
   "metadata": {},
   "outputs": [
    {
     "name": "stdin",
     "output_type": "stream",
     "text": [
      "P𝑢t T𝑜t𝑎l A𝑚o𝑢n𝑡 𝑜f y𝑜u𝑟 𝑃u𝑟cℎa𝑠e𝑑 : 778\n"
     ]
    },
    {
     "name": "stdout",
     "output_type": "stream",
     "text": [
      "𝓢𝓸𝓻𝓻𝔂! 𝓨𝓸𝓾 𝓭𝓸 𝓷𝓸𝓽 𝓱𝓪𝓿𝓮 𝓪𝓷𝔂 𝓓𝓲𝓼𝓬𝓸𝓾𝓷𝓽\n"
     ]
    }
   ],
   "source": [
    "Total_Amount = int(input(\"P𝑢t T𝑜t𝑎l A𝑚o𝑢n𝑡 𝑜f y𝑜u𝑟 𝑃u𝑟cℎa𝑠e𝑑 :\"))\n",
    "if Total_Amount >= 5000:\n",
    "    print(\"𝚈𝚘𝚞 𝚑𝚊𝚟𝚎 𝚎𝚊𝚛𝚗𝚎𝚍 𝟷𝟻% 𝚘𝚏 𝙳𝚒𝚜𝚌𝚘𝚞𝚗𝚝\")\n",
    "elif Total_Amount >= 4000:\n",
    "    print(\"Y𝚈𝚘𝚞 𝚑𝚊𝚟𝚎 𝚎𝚊𝚛𝚗𝚎𝚍 𝟷0% 𝚘𝚏 𝙳𝚒𝚜𝚌𝚘𝚞𝚗𝚝\")\n",
    "elif Total_Amount >= 3000:\n",
    "    print(\"𝚈𝚘𝚞 𝚑𝚊𝚟𝚎 𝚎𝚊𝚛𝚗𝚎𝚍 𝟻% 𝚘𝚏 𝙳𝚒𝚜𝚌𝚘𝚞𝚗𝚝\")\n",
    "else:\n",
    "    print(\"𝓢𝓸𝓻𝓻𝔂! 𝓨𝓸𝓾 𝓭𝓸 𝓷𝓸𝓽 𝓱𝓪𝓿𝓮 𝓪𝓷𝔂 𝓓𝓲𝓼𝓬𝓸𝓾𝓷𝓽\")\n",
    "    "
   ]
  },
  {
   "cell_type": "markdown",
   "id": "494daa93-2948-41de-86c5-7b49b4cc7cd8",
   "metadata": {},
   "source": [
    "# Looping Statements"
   ]
  },
  {
   "cell_type": "markdown",
   "id": "9ae982ef-c0d5-4798-8a07-843cccc1ffd8",
   "metadata": {},
   "source": [
    "### Looping statements are used to perform repeated fucntions or actions again and again until the desire/end goal is achieved. Programmers decide the criteria, it works automatically. Looping also worked based on conditions. \n",
    "### There are two types of looping (1): For Loop  (2): While Loop"
   ]
  },
  {
   "cell_type": "markdown",
   "id": "16034849-5c1b-4d2b-98fa-1715f9a8fc1a",
   "metadata": {},
   "source": [
    "# For Loop\n",
    "### For Loop neccesserly do not take a condition.  "
   ]
  },
  {
   "cell_type": "code",
   "execution_count": 200,
   "id": "62ab460e-decb-4877-af5a-c82947836626",
   "metadata": {},
   "outputs": [],
   "source": [
    "Product_Price = 35\n",
    "Product_quantity = pd.Series([23,22,21,38,34,25,22,66,33,13,42,42,12,17,19,21,21])"
   ]
  },
  {
   "cell_type": "code",
   "execution_count": 204,
   "id": "b1356948-c68b-497a-b59f-24b21431739c",
   "metadata": {},
   "outputs": [],
   "source": [
    "for Total_Amount in Product_quantity:\n",
    "    Total_Amount = Product_Price * Product_quantity"
   ]
  },
  {
   "cell_type": "code",
   "execution_count": 216,
   "id": "2341a891-e6bc-4bdb-9f4c-b9d1f0678795",
   "metadata": {},
   "outputs": [],
   "source": [
    "Total_Amount = pd.DataFrame(Total_Amount)"
   ]
  },
  {
   "cell_type": "code",
   "execution_count": 218,
   "id": "0f9d9e46-23bb-4d23-baed-49776d3d4738",
   "metadata": {},
   "outputs": [],
   "source": [
    "Total_Amount.columns = [\"Total_Amount\"]"
   ]
  },
  {
   "cell_type": "code",
   "execution_count": 220,
   "id": "f45d3bf9-b3b0-4f8e-8fa7-003ceaac8a75",
   "metadata": {},
   "outputs": [
    {
     "data": {
      "text/html": [
       "<div>\n",
       "<style scoped>\n",
       "    .dataframe tbody tr th:only-of-type {\n",
       "        vertical-align: middle;\n",
       "    }\n",
       "\n",
       "    .dataframe tbody tr th {\n",
       "        vertical-align: top;\n",
       "    }\n",
       "\n",
       "    .dataframe thead th {\n",
       "        text-align: right;\n",
       "    }\n",
       "</style>\n",
       "<table border=\"1\" class=\"dataframe\">\n",
       "  <thead>\n",
       "    <tr style=\"text-align: right;\">\n",
       "      <th></th>\n",
       "      <th>Total_Amount</th>\n",
       "    </tr>\n",
       "  </thead>\n",
       "  <tbody>\n",
       "    <tr>\n",
       "      <th>0</th>\n",
       "      <td>805</td>\n",
       "    </tr>\n",
       "    <tr>\n",
       "      <th>1</th>\n",
       "      <td>770</td>\n",
       "    </tr>\n",
       "    <tr>\n",
       "      <th>2</th>\n",
       "      <td>735</td>\n",
       "    </tr>\n",
       "    <tr>\n",
       "      <th>3</th>\n",
       "      <td>1330</td>\n",
       "    </tr>\n",
       "    <tr>\n",
       "      <th>4</th>\n",
       "      <td>1190</td>\n",
       "    </tr>\n",
       "    <tr>\n",
       "      <th>5</th>\n",
       "      <td>875</td>\n",
       "    </tr>\n",
       "    <tr>\n",
       "      <th>6</th>\n",
       "      <td>770</td>\n",
       "    </tr>\n",
       "    <tr>\n",
       "      <th>7</th>\n",
       "      <td>2310</td>\n",
       "    </tr>\n",
       "    <tr>\n",
       "      <th>8</th>\n",
       "      <td>1155</td>\n",
       "    </tr>\n",
       "    <tr>\n",
       "      <th>9</th>\n",
       "      <td>455</td>\n",
       "    </tr>\n",
       "    <tr>\n",
       "      <th>10</th>\n",
       "      <td>1470</td>\n",
       "    </tr>\n",
       "    <tr>\n",
       "      <th>11</th>\n",
       "      <td>1470</td>\n",
       "    </tr>\n",
       "    <tr>\n",
       "      <th>12</th>\n",
       "      <td>420</td>\n",
       "    </tr>\n",
       "    <tr>\n",
       "      <th>13</th>\n",
       "      <td>595</td>\n",
       "    </tr>\n",
       "    <tr>\n",
       "      <th>14</th>\n",
       "      <td>665</td>\n",
       "    </tr>\n",
       "    <tr>\n",
       "      <th>15</th>\n",
       "      <td>735</td>\n",
       "    </tr>\n",
       "    <tr>\n",
       "      <th>16</th>\n",
       "      <td>735</td>\n",
       "    </tr>\n",
       "  </tbody>\n",
       "</table>\n",
       "</div>"
      ],
      "text/plain": [
       "    Total_Amount\n",
       "0            805\n",
       "1            770\n",
       "2            735\n",
       "3           1330\n",
       "4           1190\n",
       "5            875\n",
       "6            770\n",
       "7           2310\n",
       "8           1155\n",
       "9            455\n",
       "10          1470\n",
       "11          1470\n",
       "12           420\n",
       "13           595\n",
       "14           665\n",
       "15           735\n",
       "16           735"
      ]
     },
     "execution_count": 220,
     "metadata": {},
     "output_type": "execute_result"
    }
   ],
   "source": [
    "Total_Amount"
   ]
  },
  {
   "cell_type": "markdown",
   "id": "df157cfa-745b-477c-82ba-741f2440ceff",
   "metadata": {},
   "source": [
    "# While Loop"
   ]
  },
  {
   "cell_type": "markdown",
   "id": "099e6bcc-5184-486e-acee-ae79e83ae3eb",
   "metadata": {},
   "source": [
    "#### Suppose you have been assigned to automate the \"Charity Collection Pool\" for your office. Your task is to apply the check, not to add charity to the pool once it reaches the amount of $100."
   ]
  },
  {
   "cell_type": "markdown",
   "id": "9788d0fd-404e-42b5-9820-69a70faba8f5",
   "metadata": {},
   "source": [
    "#### While loop neccesserly takes the condition. But, it usually requires initialization. "
   ]
  },
  {
   "cell_type": "code",
   "execution_count": 296,
   "id": "6a020445-760c-42f5-8263-1b4cd4715c04",
   "metadata": {},
   "outputs": [
    {
     "name": "stdin",
     "output_type": "stream",
     "text": [
      "𝙋𝒍𝙚𝒂𝙨𝒆 𝑬𝙣𝒕𝙚𝒓 𝒀𝙤𝒖𝙧 𝘿𝒐𝙣𝒂𝙩𝒊𝙤𝒏 𝑨𝙢𝒐𝙪𝒏𝙩:  44\n",
      "𝙋𝒍𝙚𝒂𝙨𝒆 𝑬𝙣𝒕𝙚𝒓 𝒀𝙤𝒖𝙧 𝘿𝒐𝙣𝒂𝙩𝒊𝙤𝒏 𝑨𝙢𝒐𝙪𝒏𝙩:  43\n",
      "𝙋𝒍𝙚𝒂𝙨𝒆 𝑬𝙣𝒕𝙚𝒓 𝒀𝙤𝒖𝙧 𝘿𝒐𝙣𝒂𝙩𝒊𝙤𝒏 𝑨𝙢𝒐𝙪𝒏𝙩:  23\n"
     ]
    },
    {
     "name": "stdout",
     "output_type": "stream",
     "text": [
      "𝓦𝓮 𝓗𝓪𝓿𝓮 𝓒𝓸𝓵𝓵𝓮𝓬𝓽𝓮𝓭 𝓽𝓱𝓮 𝓓𝓮𝓼𝓲𝓻𝓮𝓭 𝓕𝓾𝓷𝓭𝓼 $ 110\n"
     ]
    }
   ],
   "source": [
    "Amount = 0\n",
    "while Amount < 100:\n",
    "    Amount_Added = input(\"𝙋𝒍𝙚𝒂𝙨𝒆 𝑬𝙣𝒕𝙚𝒓 𝒀𝙤𝒖𝙧 𝘿𝒐𝙣𝒂𝙩𝒊𝙤𝒏 𝑨𝙢𝒐𝙪𝒏𝙩: \")\n",
    "    Amount_Added = int(Amount_Added)  \n",
    "    Amount += Amount_Added \n",
    "\n",
    "print(f\"𝓦𝓮 𝓗𝓪𝓿𝓮 𝓒𝓸𝓵𝓵𝓮𝓬𝓽𝓮𝓭 𝓽𝓱𝓮 𝓓𝓮𝓼𝓲𝓻𝓮𝓭 𝓕𝓾𝓷𝓭𝓼\",\"$\",Amount)\n"
   ]
  },
  {
   "cell_type": "markdown",
   "id": "e4227876-42fc-43b3-bea7-684ade7df247",
   "metadata": {},
   "source": [
    "# Functions in Programming"
   ]
  },
  {
   "cell_type": "markdown",
   "id": "17cd77a4-de76-4450-a20a-f877c2416016",
   "metadata": {},
   "source": [
    "# Example 01:"
   ]
  },
  {
   "cell_type": "markdown",
   "id": "6ae01877-c990-4962-afcb-8641208a04b1",
   "metadata": {},
   "source": [
    "#### Suppose you have assigned to design a function to build invoice based on list of items price and a tax rate. "
   ]
  },
  {
   "cell_type": "code",
   "execution_count": 350,
   "id": "cf822f1e-dac7-429d-befc-cfe5e9017e5a",
   "metadata": {},
   "outputs": [],
   "source": [
    "def Invoice(Item_Price):\n",
    "    if Item_Price >= 500:\n",
    "        total_price = Item_Price * 1.15  # 15% tax\n",
    "        print(f\"𝙏𝒐𝙩𝒂𝙡 𝙋𝒓𝙞𝒄𝙚 𝙬𝒊𝙩𝒉 𝑻𝙖𝒙: {total_price:.2f}\")\n",
    "    elif Item_Price >= 400:\n",
    "        total_price = Item_Price * 1.10  # 10% tax\n",
    "        print(f\"𝗧𝗼𝘁𝗮𝗹 𝗣𝗿𝗶𝗰𝗲 𝘄𝗶𝘁𝗵 𝗧𝗮𝘅: {total_price:.2f}\")\n",
    "    elif Item_Price >= 300:\n",
    "        total_price = Item_Price * 1.05  # 5% tax\n",
    "        print(f\"𝗧𝗼𝘁𝗮𝗹 𝗽𝗿𝗶𝗰𝗲 𝘄𝗶𝘁𝗵 𝗧𝗮𝘅: {total_price:.2f}\")\n",
    "    else: \n",
    "        print(\"G𝑜 𝑇o F𝑖n𝑎n𝑐e M𝑎n𝑎g𝑒r o𝑛 𝐷e𝑠k N𝑜# 01\")\n"
   ]
  },
  {
   "cell_type": "code",
   "execution_count": 352,
   "id": "3c559860-7a1e-4ecb-94e2-9fcae7fe1792",
   "metadata": {},
   "outputs": [
    {
     "name": "stdin",
     "output_type": "stream",
     "text": [
      "𝓐𝓭𝓭 𝓘𝓽𝓮𝓶 𝓟𝓻𝓲𝓬𝓮:  334\n"
     ]
    },
    {
     "name": "stdout",
     "output_type": "stream",
     "text": [
      "𝗧𝗼𝘁𝗮𝗹 𝗽𝗿𝗶𝗰𝗲 𝘄𝗶𝘁𝗵 𝗧𝗮𝘅: 350.70\n"
     ]
    }
   ],
   "source": [
    "\n",
    "Purchased_Item_Price = int(input(\"𝓐𝓭𝓭 𝓘𝓽𝓮𝓶 𝓟𝓻𝓲𝓬𝓮: \"))\n",
    "Invoice(Purchased_Item_Price)\n"
   ]
  },
  {
   "cell_type": "markdown",
   "id": "a81e9da5-0342-43c2-a351-a22051f50a9d",
   "metadata": {},
   "source": [
    "#### Above code fixed the Tax Amount based on Item Price. It basically designed to apply high tax rates on expensive items and vice versa. "
   ]
  },
  {
   "cell_type": "markdown",
   "id": "e4b6ad2e-73f2-4f5e-bd45-727b3436d9cc",
   "metadata": {},
   "source": [
    "# Example 02: "
   ]
  },
  {
   "cell_type": "markdown",
   "id": "ae5a9763-eacf-4724-8bdf-d681ef9385f0",
   "metadata": {},
   "source": [
    "### Suppose your Python Teacher has asked you to design a Program (Function)  which takes marks of subjects and add them. This function must give marks as a percentage of the total. "
   ]
  },
  {
   "cell_type": "code",
   "execution_count": 53,
   "id": "1ad9eec0-40d9-4ac6-a6b5-3c4fbcbe2bcb",
   "metadata": {},
   "outputs": [],
   "source": [
    "def marks(Subject1, Subject2, Subject3, Subject4):\n",
    "    percentage = ((Subject1 + Subject2 + Subject3 + Subject4) / 400) * 100\n",
    "    print(percentage)"
   ]
  },
  {
   "cell_type": "code",
   "execution_count": 61,
   "id": "d9554ae4-328c-43d1-a15c-beba800e1dab",
   "metadata": {},
   "outputs": [
    {
     "name": "stdin",
     "output_type": "stream",
     "text": [
      "Add Marks for subject 01 :  80\n",
      "Add Marks for subject 02 :  79\n",
      "Add Marks for subject 03 :  78\n",
      "Add Marks for subject 04 :  77\n"
     ]
    },
    {
     "name": "stdout",
     "output_type": "stream",
     "text": [
      "78.5\n"
     ]
    }
   ],
   "source": [
    "Marks1 = int(input(\"Add Marks for subject 01 : \"))\n",
    "Marks2 = int(input(\"Add Marks for subject 02 : \"))\n",
    "Marks3 = int(input(\"Add Marks for subject 03 : \"))\n",
    "Marks4 = int(input(\"Add Marks for subject 04 : \"))\n",
    "marks(Marks1, Marks2, Marks3, Marks4)"
   ]
  },
  {
   "cell_type": "markdown",
   "id": "261a3751-f132-49e6-be96-ca651e4e15a7",
   "metadata": {},
   "source": [
    "# Object Oriented Programming Concepts"
   ]
  },
  {
   "cell_type": "markdown",
   "id": "821647ea-a8dc-4428-88e5-6f056efb5a8a",
   "metadata": {},
   "source": [
    "#### Object-oriented programming is a technique that behaves like a real-world object. In Python, OOP provides an effective and efficient template for complex programming and coding efforts. Classes are a crucial component of OOP. Classes have behaviors and properties that make them identical in programming. In addition, objects are part of classes, where each object is unique but holds the same properties and behaviors as its parent class.\n",
    "\n",
    "#### For example Pandas, Numpy, Matplotlib, and Seaborn libraries in Python."
   ]
  },
  {
   "cell_type": "markdown",
   "id": "8cc8485f-a35c-486f-b10d-62d3a3f28f47",
   "metadata": {},
   "source": [
    "# Algorithmic Approach to Solve a Problem"
   ]
  },
  {
   "cell_type": "markdown",
   "id": "ed07848e-5d90-4b1a-9e69-16a17c157303",
   "metadata": {},
   "source": [
    "#### In Python functions and programs are designed by following the step by step approach. These are aimed to provide effective and efficient solutions to real world problems. This approach includes essential components and also requires neccessary arrangements. \n",
    "\n",
    "#### (Input)-----------------------[Steps to followed]-----------------------(Output)\n",
    "#### For example: You are assigned with a task to develop a program which will detect the item as defective or non_defective. The Detector, basically an algorithum at the backed has been properly trained. That is known as Supervised Machine Learning.   "
   ]
  },
  {
   "cell_type": "markdown",
   "id": "a96d781a-60be-4acd-a492-1d0b0bf75cf8",
   "metadata": {},
   "source": [
    "# Introduction to Python"
   ]
  },
  {
   "cell_type": "markdown",
   "id": "86cdf79f-dd2c-4acc-b3bb-6e8550755241",
   "metadata": {},
   "source": [
    "#### Python is a programming language. It is open-source, and also oop language. It has large number of standard and comprehensive libraries. In addition, it has IDE's including Pycharm and Anaconda Navigator. Anaconda Navigator is basically web base distributor. It provides different comprehensive dependencies. "
   ]
  },
  {
   "cell_type": "markdown",
   "id": "4c27a8fd-acfe-4a98-9e66-dd067d9e12e1",
   "metadata": {},
   "source": [
    "# Intro to Jupyter Notebook"
   ]
  },
  {
   "cell_type": "markdown",
   "id": "d48da1e5-f27d-4527-8531-58d81996ba9e",
   "metadata": {},
   "source": [
    "#### Jupyter Notebook is browser base interactive python interprator. It has very effective and efficient user interface. It has comprehensive build-in dependencies which allow python developer to program complex problem very effectively. It supports the executive programing. "
   ]
  },
  {
   "cell_type": "markdown",
   "id": "90b8df7d-af75-486f-981d-eaf6352e77a0",
   "metadata": {},
   "source": [
    "# Variables and Data-types in Python"
   ]
  },
  {
   "cell_type": "markdown",
   "id": "729de54b-32d1-48d9-9a87-6bd9142e0bbb",
   "metadata": {},
   "source": [
    "#### Variables are temporary storage where values are stored. The semantic meaning of variable is varying or changing. We can assign this variable to another variable and can change the value of that variable as well."
   ]
  },
  {
   "cell_type": "code",
   "execution_count": 88,
   "id": "791e5a15-09dc-47ed-9ed4-9dff4ebeef87",
   "metadata": {},
   "outputs": [],
   "source": [
    "Python_Sir = (\"Mr.Faheem-ur-Rehman\")"
   ]
  },
  {
   "cell_type": "code",
   "execution_count": 90,
   "id": "47180c87-4dcc-45eb-8ffd-ceee49bee568",
   "metadata": {},
   "outputs": [
    {
     "name": "stdout",
     "output_type": "stream",
     "text": [
      "Mr.Faheem-ur-Rehman is highly recommended instructor for Python Language.\n"
     ]
    }
   ],
   "source": [
    "print(f\"{Python_Sir} is highly recommended instructor for Python Language.\")"
   ]
  },
  {
   "cell_type": "code",
   "execution_count": 94,
   "id": "d082750d-a600-470c-8fdd-7ecdd82d7284",
   "metadata": {},
   "outputs": [
    {
     "name": "stdout",
     "output_type": "stream",
     "text": [
      "Muhammad Hamid Khan Niazi is highly recommended instructor for Python Language.\n"
     ]
    }
   ],
   "source": [
    "Python_Sir = (\"Muhammad Hamid Khan Niazi\")\n",
    "print(f\"{Python_Sir} is highly recommended instructor for Python Language.\")"
   ]
  },
  {
   "cell_type": "markdown",
   "id": "b7e88a2a-a726-4949-a3ac-b50e388e2aa5",
   "metadata": {},
   "source": [
    "#### So, here in the above two code snippets, previously \"Python_Sir\" variable had the value \"Mr.Faheem-ur-Rehman\". But later, it got changed to \"Muhammad Hamid Khan Niazi\" via variable reassignment. "
   ]
  },
  {
   "cell_type": "code",
   "execution_count": 98,
   "id": "3cfece47-829a-4f77-b0fa-711639ea5e01",
   "metadata": {},
   "outputs": [],
   "source": [
    "my_name = call_me = (\"Muhammad Hamid Khan Niazi\")"
   ]
  },
  {
   "cell_type": "code",
   "execution_count": 100,
   "id": "cba87ba6-8c21-4fcd-ae63-52466cf32819",
   "metadata": {},
   "outputs": [
    {
     "data": {
      "text/plain": [
       "'Muhammad Hamid Khan Niazi'"
      ]
     },
     "execution_count": 100,
     "metadata": {},
     "output_type": "execute_result"
    }
   ],
   "source": [
    "my_name"
   ]
  },
  {
   "cell_type": "code",
   "execution_count": 102,
   "id": "3eba955b-ab04-4d63-8246-0eeb05228c11",
   "metadata": {},
   "outputs": [
    {
     "data": {
      "text/plain": [
       "'Muhammad Hamid Khan Niazi'"
      ]
     },
     "execution_count": 102,
     "metadata": {},
     "output_type": "execute_result"
    }
   ],
   "source": [
    "call_me"
   ]
  },
  {
   "cell_type": "markdown",
   "id": "d9830455-e18c-4769-9bba-6a89882b70a7",
   "metadata": {},
   "source": [
    "#### We can assign value to two variables in same line of code, that is called as Chained Assignment. That is why, Python is called as dynamic programming language. "
   ]
  },
  {
   "cell_type": "markdown",
   "id": "886dfd94-fd14-4fc2-b9c6-1609a40663f1",
   "metadata": {},
   "source": [
    "## Data_Types"
   ]
  },
  {
   "cell_type": "markdown",
   "id": "d74593a6-fa7d-4303-9697-c7ccc6e23209",
   "metadata": {},
   "source": [
    "#### In Python every data has datatype. These datatypes make variables identical from other variables. Based on these datatypes, different complex programming techniques and libraries are also applied. \n",
    "\n",
    "#### In Python there are numerious datatypes. But few are in common use, including, string(str), interger(int), boollen, and float. "
   ]
  },
  {
   "cell_type": "markdown",
   "id": "92a9f1f4-a628-4db1-bfbe-4da8af74b75d",
   "metadata": {},
   "source": [
    "### Integer"
   ]
  },
  {
   "cell_type": "markdown",
   "id": "3911da4e-536f-4190-b335-8310409a85b4",
   "metadata": {},
   "source": [
    "##### Any discrete numeric values ranging from positive infinity to negative infinity. For example 2323,24234,6463,124353,34534. In addition, the \"int\" method is used to specify anything as an \"Integer\" in a Python programming language. "
   ]
  },
  {
   "cell_type": "code",
   "execution_count": 144,
   "id": "14381e07-6434-452d-b152-c91dc1a71776",
   "metadata": {},
   "outputs": [],
   "source": [
    "Hostel_Charges = 25000 "
   ]
  },
  {
   "cell_type": "code",
   "execution_count": 162,
   "id": "34bf68b6-1cba-4da1-92b6-8ea0f0a87a27",
   "metadata": {},
   "outputs": [
    {
     "name": "stdout",
     "output_type": "stream",
     "text": [
      "<class 'int'>\n"
     ]
    }
   ],
   "source": [
    "print(type(Hostel_Charges))\n"
   ]
  },
  {
   "cell_type": "markdown",
   "id": "f817109b-c5ea-46c0-9458-949e77c6eb0a",
   "metadata": {},
   "source": [
    "### Float"
   ]
  },
  {
   "cell_type": "markdown",
   "id": "ae8c7ea6-630e-4445-aa0f-16379601f86d",
   "metadata": {},
   "source": [
    "##### Floats are decimal numeric values. These are points that are also useful while dealing with values, and algorithms dealing with close values which are mainly in decimals. \n",
    "##### For example: 24.33, 35.11, 2.34, and many more. Student CGPA is a very glaring example of floating point numbers."
   ]
  },
  {
   "cell_type": "code",
   "execution_count": 166,
   "id": "b63138e8-bc6f-487d-a6b7-6edf56fe1357",
   "metadata": {},
   "outputs": [],
   "source": [
    "Bs_CGPA = 3.62"
   ]
  },
  {
   "cell_type": "code",
   "execution_count": 168,
   "id": "4549228a-7811-490f-a4ed-0838b5ebf43e",
   "metadata": {},
   "outputs": [
    {
     "name": "stdout",
     "output_type": "stream",
     "text": [
      "<class 'float'>\n"
     ]
    }
   ],
   "source": [
    "print(type(Bs_CGPA))"
   ]
  },
  {
   "cell_type": "markdown",
   "id": "e1b5873e-2f3f-4357-8979-7d3aab28a7f1",
   "metadata": {},
   "source": [
    "### Boolean"
   ]
  },
  {
   "cell_type": "markdown",
   "id": "94036f9c-1b46-4a39-b363-86cfb0b52e28",
   "metadata": {},
   "source": [
    "#### Boolean consists of two values which are \"True\" and \"False\". These are logical values that are mainly used in conditional statements. Commonly, \"1\" is assigned to \"Ture\" and \"0\" is assigned to \"False\"."
   ]
  },
  {
   "cell_type": "code",
   "execution_count": 133,
   "id": "71b6648d-45ab-4a93-b51e-1ab8cc2935cd",
   "metadata": {},
   "outputs": [],
   "source": [
    "a = 5 \n",
    "b = 10"
   ]
  },
  {
   "cell_type": "code",
   "execution_count": 135,
   "id": "0609f49d-64eb-4ad6-a7b3-739228c64fca",
   "metadata": {},
   "outputs": [
    {
     "data": {
      "text/plain": [
       "False"
      ]
     },
     "execution_count": 135,
     "metadata": {},
     "output_type": "execute_result"
    }
   ],
   "source": [
    "a > b"
   ]
  },
  {
   "cell_type": "code",
   "execution_count": 128,
   "id": "ed532e32-95b3-487b-aebf-b7bb9c4e5fe9",
   "metadata": {},
   "outputs": [
    {
     "data": {
      "text/plain": [
       "True"
      ]
     },
     "execution_count": 128,
     "metadata": {},
     "output_type": "execute_result"
    }
   ],
   "source": [
    "a < b"
   ]
  },
  {
   "cell_type": "markdown",
   "id": "77e53c70-5ca5-45ef-8d87-4a293417d986",
   "metadata": {},
   "source": [
    "### String "
   ]
  },
  {
   "cell_type": "markdown",
   "id": "65adad88-252a-4116-a57e-824eccb0b9e8",
   "metadata": {},
   "source": [
    "##### String consists of characters that are enclosed in double(\"  \") or single quotes ('  '). The string is mainly used for alphabetical characters. It uses the \"str\" method to specify something as a string. "
   ]
  },
  {
   "cell_type": "code",
   "execution_count": 142,
   "id": "3cae707d-0d49-481e-a407-2ad964884911",
   "metadata": {},
   "outputs": [
    {
     "data": {
      "text/plain": [
       "'Muhammad Hamid Khan'"
      ]
     },
     "execution_count": 142,
     "metadata": {},
     "output_type": "execute_result"
    }
   ],
   "source": [
    "my_name = \"Muhammad Hamid Khan\"\n",
    "my_name"
   ]
  },
  {
   "cell_type": "code",
   "execution_count": 170,
   "id": "c1d47031-af3d-4da8-9877-a5b89cfdb29b",
   "metadata": {},
   "outputs": [
    {
     "name": "stdout",
     "output_type": "stream",
     "text": [
      "<class 'str'>\n"
     ]
    }
   ],
   "source": [
    "print(type(my_name))"
   ]
  },
  {
   "cell_type": "markdown",
   "id": "a556c3c5-b3bd-470a-89c4-e0ef6b25de7b",
   "metadata": {},
   "source": [
    "# Operators in Python"
   ]
  },
  {
   "cell_type": "markdown",
   "id": "65871309-d293-4309-9fa4-ccfbee0b5496",
   "metadata": {},
   "source": [
    "### Operators are build_in functions in Python that perform specific operations. Commonly, we have three operators in Python, named Arithmetic Operators, Relational Operators, and Logical Operators. "
   ]
  },
  {
   "cell_type": "markdown",
   "id": "07248b7d-abf3-4b50-aca4-39443f8c0890",
   "metadata": {},
   "source": [
    "## Arithmetic Operators\n",
    "#### Basically it performs mathematical operations like + , -, * and / on the data. "
   ]
  },
  {
   "cell_type": "code",
   "execution_count": 178,
   "id": "58f435de-2509-45fc-b3ba-9978af25b7fc",
   "metadata": {},
   "outputs": [],
   "source": [
    "a = 20\n",
    "b = 10"
   ]
  },
  {
   "cell_type": "code",
   "execution_count": 180,
   "id": "3f8c0c5f-ef61-445c-a1bc-43ea0dd9170f",
   "metadata": {},
   "outputs": [
    {
     "data": {
      "text/plain": [
       "30"
      ]
     },
     "execution_count": 180,
     "metadata": {},
     "output_type": "execute_result"
    }
   ],
   "source": [
    "# Addition\n",
    "a+b"
   ]
  },
  {
   "cell_type": "code",
   "execution_count": 182,
   "id": "bb8c752f-2d5b-4676-8201-3051d868a084",
   "metadata": {},
   "outputs": [
    {
     "data": {
      "text/plain": [
       "10"
      ]
     },
     "execution_count": 182,
     "metadata": {},
     "output_type": "execute_result"
    }
   ],
   "source": [
    "# Subtraction\n",
    "a-b"
   ]
  },
  {
   "cell_type": "code",
   "execution_count": 184,
   "id": "c2d25689-25c7-4f6a-8ea3-a3b05e5546dd",
   "metadata": {},
   "outputs": [
    {
     "data": {
      "text/plain": [
       "200"
      ]
     },
     "execution_count": 184,
     "metadata": {},
     "output_type": "execute_result"
    }
   ],
   "source": [
    "# Multiplication\n",
    "a*b"
   ]
  },
  {
   "cell_type": "code",
   "execution_count": 186,
   "id": "f48c03f7-e654-4cf4-aaa1-4f7e7992649a",
   "metadata": {},
   "outputs": [
    {
     "data": {
      "text/plain": [
       "2.0"
      ]
     },
     "execution_count": 186,
     "metadata": {},
     "output_type": "execute_result"
    }
   ],
   "source": [
    "# Division\n",
    "a / b"
   ]
  },
  {
   "cell_type": "markdown",
   "id": "4a1f3de8-c765-48b8-b94c-05cff2e68bba",
   "metadata": {},
   "source": [
    "## Relational Operators\n",
    "#### Relational operators play very key role in conditional statements. It includes, >, <, <+, >=, != and ==. The following examples give the output as Ture or False based on the condition understudy. "
   ]
  },
  {
   "cell_type": "code",
   "execution_count": 193,
   "id": "78263a75-e9be-4a99-afd7-96d8d78ca2fb",
   "metadata": {},
   "outputs": [],
   "source": [
    "c = 22\n",
    "d = 31"
   ]
  },
  {
   "cell_type": "code",
   "execution_count": 195,
   "id": "d4ae067f-e2d2-4a4d-973b-ff54332112c3",
   "metadata": {},
   "outputs": [
    {
     "data": {
      "text/plain": [
       "False"
      ]
     },
     "execution_count": 195,
     "metadata": {},
     "output_type": "execute_result"
    }
   ],
   "source": [
    "# Greater Then\n",
    "c > d"
   ]
  },
  {
   "cell_type": "code",
   "execution_count": 197,
   "id": "11c6aca6-ce70-4474-a4ea-d55eb615843a",
   "metadata": {},
   "outputs": [
    {
     "data": {
      "text/plain": [
       "True"
      ]
     },
     "execution_count": 197,
     "metadata": {},
     "output_type": "execute_result"
    }
   ],
   "source": [
    "# Less Then\n",
    "c < d"
   ]
  },
  {
   "cell_type": "code",
   "execution_count": 201,
   "id": "88989333-6b84-442f-af8c-20281e81c2d3",
   "metadata": {},
   "outputs": [
    {
     "data": {
      "text/plain": [
       "True"
      ]
     },
     "execution_count": 201,
     "metadata": {},
     "output_type": "execute_result"
    }
   ],
   "source": [
    "# Greater then or equal to\n",
    "c <= d\n"
   ]
  },
  {
   "cell_type": "code",
   "execution_count": 204,
   "id": "ea7f7b03-5bae-471f-81d0-167eec4dba7e",
   "metadata": {},
   "outputs": [
    {
     "data": {
      "text/plain": [
       "False"
      ]
     },
     "execution_count": 204,
     "metadata": {},
     "output_type": "execute_result"
    }
   ],
   "source": [
    "# Less then or equal to\n",
    "c >= d"
   ]
  },
  {
   "cell_type": "code",
   "execution_count": 206,
   "id": "e076750e-c869-4bea-b0bf-0d525232a790",
   "metadata": {},
   "outputs": [
    {
     "data": {
      "text/plain": [
       "True"
      ]
     },
     "execution_count": 206,
     "metadata": {},
     "output_type": "execute_result"
    }
   ],
   "source": [
    "# Not equal to \n",
    "c != d"
   ]
  },
  {
   "cell_type": "code",
   "execution_count": 208,
   "id": "b6a7c066-3454-4290-8508-67e222316c36",
   "metadata": {},
   "outputs": [
    {
     "data": {
      "text/plain": [
       "False"
      ]
     },
     "execution_count": 208,
     "metadata": {},
     "output_type": "execute_result"
    }
   ],
   "source": [
    "# Equal To\n",
    "c == d"
   ]
  },
  {
   "cell_type": "markdown",
   "id": "deaae922-f532-4188-84bb-da4279f62b8a",
   "metadata": {},
   "source": [
    "# Logical Operators "
   ]
  },
  {
   "cell_type": "markdown",
   "id": "2f5412e8-c00c-4e0c-89be-4b55a4ed5152",
   "metadata": {},
   "source": [
    "### Logical operators are somehow also used for conditions. These include, \"And\" (&) which is basically multiply (*), and \"Or\" which is (+). In addition, And Operator gives the \"True Results\" if both the conditions are true otherwise \"False\". And, Or Operator gives \"True Results\" if any of the one conditions is true. In Or if both are \"False\" then it gives the \"False Results\".   "
   ]
  },
  {
   "cell_type": "markdown",
   "id": "317d8711-a61d-42ac-a63b-2f6bd9286b0c",
   "metadata": {},
   "source": [
    "## Example 01: "
   ]
  },
  {
   "cell_type": "markdown",
   "id": "71dd7da6-9072-4c6b-b12c-407df96549ab",
   "metadata": {},
   "source": [
    "## AND\n",
    "### Suppose, two sisters will receive 50% of the fee waiver if they both get 80% marks in sessional exams.  "
   ]
  },
  {
   "cell_type": "code",
   "execution_count": 242,
   "id": "c6c80cd8-43c0-409d-99e1-279c5fc0cdf3",
   "metadata": {},
   "outputs": [
    {
     "name": "stdin",
     "output_type": "stream",
     "text": [
      "Enter your marks 84\n",
      "Enter your marks 79\n"
     ]
    },
    {
     "name": "stdout",
     "output_type": "stream",
     "text": [
      "𝓢𝓸𝓻𝓻𝔂 𝓨𝓸𝓾 𝓪𝓻𝓮 𝓷𝓸𝓽 𝓔𝓵𝓲𝓰𝓲𝓫𝓵𝓮\n"
     ]
    }
   ],
   "source": [
    "sister_A_marks = int(input(\"Enter your marks\"))\n",
    "sister_B_marks = int(input(\"Enter your marks\"))\n",
    "\n",
    "if sister_A_marks >= 80 and sister_B_marks >= 80:\n",
    "    print(\"𝘾𝙤𝙣𝙜𝙧𝙖𝙩𝙪𝙡𝙖𝙩𝙞𝙤𝙣𝙨! 𝙔𝙤𝙪 𝙝𝙖𝙫𝙚 𝙜𝙤𝙩 50% 𝙤𝙛 𝙩𝙝𝙚 𝙛𝙚𝙚 𝙬𝙖𝙫𝙞𝙚𝙧\")\n",
    "else:\n",
    "    print(\"𝓢𝓸𝓻𝓻𝔂 𝓨𝓸𝓾 𝓪𝓻𝓮 𝓷𝓸𝓽 𝓔𝓵𝓲𝓰𝓲𝓫𝓵𝓮\")"
   ]
  },
  {
   "cell_type": "markdown",
   "id": "85a4b622-d14b-4f9f-b683-aa6ba480df5e",
   "metadata": {},
   "source": [
    "## OR\n",
    "### Suppose, A student can get a 40% fee waiver if he is from a rural area or has marks greater than 70%. "
   ]
  },
  {
   "cell_type": "code",
   "execution_count": 279,
   "id": "9175f834-3eed-43fe-acc2-905192f2c5c1",
   "metadata": {},
   "outputs": [
    {
     "name": "stdin",
     "output_type": "stream",
     "text": [
      "Enter your marks:  56\n",
      "Enter your Residential Area (Rural or Urban):  rural\n"
     ]
    },
    {
     "name": "stdout",
     "output_type": "stream",
     "text": [
      "𝘾𝙤𝙣𝙜𝙧𝙖𝙩𝙪𝙡𝙖𝙩𝙞𝙤𝙣𝙨! 𝙔𝙤𝙪 𝙝𝙖𝙫𝙚 𝙜𝙤𝙩 70% 𝙤𝙛 𝙩𝙝𝙚 𝙛𝙚𝙚 𝙬𝙖𝙫𝙞𝙚𝙧\n"
     ]
    }
   ],
   "source": [
    "Marks = int(input(\"Enter your marks: \"))\n",
    "Residential_Area = str(input(\"Enter your Residential Area (Rural or Urban): \")).strip().lower()\n",
    "\n",
    "if Marks >= 70 or Residential_Area == \"rural\":\n",
    "    print(\"𝘾𝙤𝙣𝙜𝙧𝙖𝙩𝙪𝙡𝙖𝙩𝙞𝙤𝙣𝙨! 𝙔𝙤𝙪 𝙝𝙖𝙫𝙚 𝙜𝙤𝙩 70% 𝙤𝙛 𝙩𝙝𝙚 𝙛𝙚𝙚 𝙬𝙖𝙫𝙞𝙚𝙧\")\n",
    "else:\n",
    "    print(\"𝓢𝓸𝓻𝓻𝔶 𝓨𝓸𝓾 𝓪𝓻𝓮 𝓷𝓸𝓽 𝓔𝓵𝓲𝓰𝓲𝓫𝓵𝓮\")\n"
   ]
  },
  {
   "cell_type": "markdown",
   "id": "db493ce5-3ef1-4023-98c4-413415fafb05",
   "metadata": {},
   "source": [
    "# Tokens in Python"
   ]
  },
  {
   "cell_type": "markdown",
   "id": "73efa428-a56f-4742-ad13-9f762244bfe9",
   "metadata": {},
   "source": [
    "### Tokens are meaningful laterials in Python that are self identical. Following are the few tokens.\n",
    "#### 01: Keywords\n",
    "#### 02: Identifiers\n",
    "#### 03: Literals\n",
    "#### 04: Operators "
   ]
  },
  {
   "cell_type": "markdown",
   "id": "f8541445-8242-4ccb-b80f-7f4190f71145",
   "metadata": {},
   "source": [
    "##  Keywords"
   ]
  },
  {
   "cell_type": "markdown",
   "id": "bbc12b9d-a0e7-49ba-8b39-052e44274d67",
   "metadata": {},
   "source": [
    "#### Keywords are special reserved words in Python. These reserved words are treated special having identical meanings. Commonly, these are variables or naming conventions that have been assigned to these words by the developers. That is why, these are called as Keywords. So, we cannot again assign the same names to the variables. Otherwise, it will give typo or syntax error.  \n",
    "#### Following are the few keywords. \n",
    "#### False, True, And, Or, If, else, def, while, for and many more. Keywords are highlighted \"Green\" in Python Jupyter Notebook. "
   ]
  },
  {
   "cell_type": "code",
   "execution_count": null,
   "id": "d48cc716-3693-4a6b-89ee-6660a8ccabbd",
   "metadata": {},
   "outputs": [],
   "source": [
    "if \n",
    "\n",
    "## See it is in Green Color. "
   ]
  },
  {
   "cell_type": "code",
   "execution_count": 289,
   "id": "07062a5f-f0ce-4e40-b728-1406c5da3290",
   "metadata": {},
   "outputs": [
    {
     "ename": "SyntaxError",
     "evalue": "invalid syntax (2644998005.py, line 1)",
     "output_type": "error",
     "traceback": [
      "\u001b[1;36m  Cell \u001b[1;32mIn[289], line 1\u001b[1;36m\u001b[0m\n\u001b[1;33m    if = 20\u001b[0m\n\u001b[1;37m       ^\u001b[0m\n\u001b[1;31mSyntaxError\u001b[0m\u001b[1;31m:\u001b[0m invalid syntax\n"
     ]
    }
   ],
   "source": [
    "if = 20"
   ]
  },
  {
   "cell_type": "code",
   "execution_count": 291,
   "id": "b9cf1823-25a9-4f90-b1d3-515fddb69c51",
   "metadata": {},
   "outputs": [
    {
     "ename": "SyntaxError",
     "evalue": "cannot assign to True (2174846472.py, line 1)",
     "output_type": "error",
     "traceback": [
      "\u001b[1;36m  Cell \u001b[1;32mIn[291], line 1\u001b[1;36m\u001b[0m\n\u001b[1;33m    True = 33\u001b[0m\n\u001b[1;37m    ^\u001b[0m\n\u001b[1;31mSyntaxError\u001b[0m\u001b[1;31m:\u001b[0m cannot assign to True\n"
     ]
    }
   ],
   "source": [
    "True = 33"
   ]
  },
  {
   "cell_type": "code",
   "execution_count": null,
   "id": "0d3443fe-a32f-43f1-a4b9-cca8e0b916cb",
   "metadata": {},
   "outputs": [],
   "source": [
    "## Look at code lines 289 and 291, these gave the syntax error, because \"if\" is keyword. We cannot take it as variable. "
   ]
  },
  {
   "cell_type": "code",
   "execution_count": 297,
   "id": "e5666dbc-7448-48d6-b8cb-6a43705950ca",
   "metadata": {},
   "outputs": [
    {
     "ename": "SyntaxError",
     "evalue": "invalid syntax (1296032336.py, line 1)",
     "output_type": "error",
     "traceback": [
      "\u001b[1;36m  Cell \u001b[1;32mIn[297], line 1\u001b[1;36m\u001b[0m\n\u001b[1;33m    name = def = \"Muhammad Hamid Khan\"\u001b[0m\n\u001b[1;37m           ^\u001b[0m\n\u001b[1;31mSyntaxError\u001b[0m\u001b[1;31m:\u001b[0m invalid syntax\n"
     ]
    }
   ],
   "source": [
    "name = def = \"Muhammad Hamid Khan\""
   ]
  },
  {
   "cell_type": "code",
   "execution_count": null,
   "id": "08432006-ebef-4558-a7a2-a8d655ed2f04",
   "metadata": {},
   "outputs": [],
   "source": [
    "## Look, it also gave error with Chained Variable. Because \"def\" is keuwords so it can't be used as variable. "
   ]
  },
  {
   "cell_type": "markdown",
   "id": "30c3bd9f-7c75-47fd-ab49-5da6344cea3f",
   "metadata": {},
   "source": [
    "##  Identifiers"
   ]
  },
  {
   "cell_type": "markdown",
   "id": "43f4268e-89df-4c05-a6c2-579681b46cd4",
   "metadata": {},
   "source": [
    "#### Identifiers are naming conventions in Python. These names are assigned to functions, variables, and objects based on conditions. \n",
    "#### We have some rules for naming variables. 1: Can't start with numbers 2: Can't start with special characters 3: Can't have special character in-between 4: Onlt starts with alphabetic character 5: Start with Under_Score 6: Only Under_score is allowed to use for example my_name. In addition, these identifiers are case-sensitive. "
   ]
  },
  {
   "cell_type": "code",
   "execution_count": null,
   "id": "a1ee753e-e585-4668-b0d8-d3835a2d79c2",
   "metadata": {},
   "outputs": [],
   "source": [
    "# 1: Can't start with numbers "
   ]
  },
  {
   "cell_type": "code",
   "execution_count": 308,
   "id": "46341e3c-2ef9-4247-af68-d8161608dc9b",
   "metadata": {},
   "outputs": [
    {
     "ename": "SyntaxError",
     "evalue": "invalid decimal literal (3746239209.py, line 1)",
     "output_type": "error",
     "traceback": [
      "\u001b[1;36m  Cell \u001b[1;32mIn[308], line 1\u001b[1;36m\u001b[0m\n\u001b[1;33m    4_my_name = 'Hami Niaxi'\u001b[0m\n\u001b[1;37m     ^\u001b[0m\n\u001b[1;31mSyntaxError\u001b[0m\u001b[1;31m:\u001b[0m invalid decimal literal\n"
     ]
    }
   ],
   "source": [
    "4_my_name = 'Hami Niaxi'\n",
    "4_my_name"
   ]
  },
  {
   "cell_type": "code",
   "execution_count": null,
   "id": "d8c048ea-e7f1-4547-8c7e-670bd44d1250",
   "metadata": {},
   "outputs": [],
   "source": [
    "# 2: Can't start with special characters "
   ]
  },
  {
   "cell_type": "code",
   "execution_count": 314,
   "id": "aff513f4-b439-44cb-b21a-f1229ec32400",
   "metadata": {},
   "outputs": [
    {
     "ename": "SyntaxError",
     "evalue": "invalid syntax. Maybe you meant '==' or ':=' instead of '='? (592541476.py, line 1)",
     "output_type": "error",
     "traceback": [
      "\u001b[1;36m  Cell \u001b[1;32mIn[314], line 1\u001b[1;36m\u001b[0m\n\u001b[1;33m    @my_name = 'Hami Niaxi Watta Khal'\u001b[0m\n\u001b[1;37m     ^\u001b[0m\n\u001b[1;31mSyntaxError\u001b[0m\u001b[1;31m:\u001b[0m invalid syntax. Maybe you meant '==' or ':=' instead of '='?\n"
     ]
    }
   ],
   "source": [
    "@my_name = \"Hami Niaxi Watta Khal\"\n",
    "@my_name"
   ]
  },
  {
   "cell_type": "code",
   "execution_count": null,
   "id": "2ae06a6f-a8b3-40ea-ab62-156be0a60958",
   "metadata": {},
   "outputs": [],
   "source": [
    "# 3: Can't have special character in-between"
   ]
  },
  {
   "cell_type": "code",
   "execution_count": 316,
   "id": "e1aabd87-55ca-4f02-ad37-1e3e5b3c2997",
   "metadata": {},
   "outputs": [
    {
     "ename": "SyntaxError",
     "evalue": "cannot assign to expression here. Maybe you meant '==' instead of '='? (1232209899.py, line 1)",
     "output_type": "error",
     "traceback": [
      "\u001b[1;36m  Cell \u001b[1;32mIn[316], line 1\u001b[1;36m\u001b[0m\n\u001b[1;33m    my_@_name = \"Hamid Niazi\"\u001b[0m\n\u001b[1;37m    ^\u001b[0m\n\u001b[1;31mSyntaxError\u001b[0m\u001b[1;31m:\u001b[0m cannot assign to expression here. Maybe you meant '==' instead of '='?\n"
     ]
    }
   ],
   "source": [
    "my_@_name = \"Hamid Niazi\"\n",
    "my_@_name"
   ]
  },
  {
   "cell_type": "code",
   "execution_count": null,
   "id": "ad5f472e-88b9-4f37-a01d-5d259388732e",
   "metadata": {},
   "outputs": [],
   "source": [
    "# 4: Onlt starts with alphabetic character "
   ]
  },
  {
   "cell_type": "code",
   "execution_count": 318,
   "id": "009c580f-7e9b-4e97-a7cd-f34ebff4561e",
   "metadata": {},
   "outputs": [
    {
     "data": {
      "text/plain": [
       "'Muhammad Hamid Khan Niazi Watta Khal all the way from Mianwali'"
      ]
     },
     "execution_count": 318,
     "metadata": {},
     "output_type": "execute_result"
    }
   ],
   "source": [
    "myname = \"Muhammad Hamid Khan Niazi Watta Khal all the way from Mianwali\"\n",
    "myname "
   ]
  },
  {
   "cell_type": "code",
   "execution_count": null,
   "id": "d0780923-6e25-4f7d-97bb-0b5d8d9281fe",
   "metadata": {},
   "outputs": [],
   "source": [
    "# 5: Start with Under_Score"
   ]
  },
  {
   "cell_type": "code",
   "execution_count": 320,
   "id": "0633fd48-494a-4351-999d-4e11bf2656fa",
   "metadata": {},
   "outputs": [
    {
     "data": {
      "text/plain": [
       "'Hamid Niazi'"
      ]
     },
     "execution_count": 320,
     "metadata": {},
     "output_type": "execute_result"
    }
   ],
   "source": [
    "_myname = \"Hamid Niazi\"\n",
    "_myname"
   ]
  },
  {
   "cell_type": "code",
   "execution_count": null,
   "id": "0dac301c-7adf-483f-801b-6776b73f5b85",
   "metadata": {},
   "outputs": [],
   "source": [
    "# 6: Only Under_score is allowed in-between alphabatic characters "
   ]
  },
  {
   "cell_type": "code",
   "execution_count": 340,
   "id": "4d7bcfc4-8842-4fd3-8ae3-e9713d8400a4",
   "metadata": {},
   "outputs": [
    {
     "data": {
      "text/plain": [
       "\" Muhammad Hamid Khan Niazi Watta Khal from Mianwali. He is currently doing his master's in Business Analytics. His research interests are\\nMachine Learning and Computer Vision \""
      ]
     },
     "execution_count": 340,
     "metadata": {},
     "output_type": "execute_result"
    }
   ],
   "source": [
    "my_name = \"\"\" Muhammad Hamid Khan Niazi Watta Khal from Mianwali. He is currently doing his master's in Business Analytics. His research interests are\n",
    "Machine Learning and Computer Vision \"\"\"\n",
    "my_name"
   ]
  },
  {
   "cell_type": "markdown",
   "id": "4d1f63e8-a063-4ecd-b13f-58352080e47d",
   "metadata": {},
   "source": [
    "## Literals"
   ]
  },
  {
   "cell_type": "markdown",
   "id": "28f652bd-c8db-40b0-992a-559fcb514f82",
   "metadata": {},
   "source": [
    "#### Python literals are basically constants, that are static in nature. Let's suppose we have numeric, string, and boolean literals.  Simply, the values that are stored in variables are called literals. \n",
    "#### For example; my_name = \"Muhammad Hamid Khan\". Here, my_name is variable and value Muhammad Hamid Khan is literal.\n"
   ]
  },
  {
   "cell_type": "code",
   "execution_count": 346,
   "id": "6437f518-f988-46e1-9449-e7c933397a55",
   "metadata": {},
   "outputs": [
    {
     "data": {
      "text/plain": [
       "'Imran Ahmed Khan Niazi'"
      ]
     },
     "execution_count": 346,
     "metadata": {},
     "output_type": "execute_result"
    }
   ],
   "source": [
    "Great_Leader = \"Imran Ahmed Khan Niazi \"\n",
    "Great_Leader"
   ]
  },
  {
   "cell_type": "code",
   "execution_count": null,
   "id": "9e27cbb6-55f1-416c-8fb4-0a2f41b54ad1",
   "metadata": {},
   "outputs": [],
   "source": [
    "## Here 'Great_Leader' is variable, and 'Imran Ahmed Khan Niazi' is a literial. (String Literal)"
   ]
  },
  {
   "cell_type": "code",
   "execution_count": 348,
   "id": "4685c5b1-2c18-4622-8771-3cce2a1f4aaa",
   "metadata": {},
   "outputs": [
    {
     "data": {
      "text/plain": [
       "78"
      ]
     },
     "execution_count": 348,
     "metadata": {},
     "output_type": "execute_result"
    }
   ],
   "source": [
    "my_marks = 78\n",
    "my_marks"
   ]
  },
  {
   "cell_type": "code",
   "execution_count": null,
   "id": "b32278c6-e9ac-4536-bc90-67861888cd78",
   "metadata": {},
   "outputs": [],
   "source": [
    "## Here 'my_marks' is variable, and '78' is a literial. (Numeric Literal)"
   ]
  },
  {
   "cell_type": "markdown",
   "id": "2dd20b90-75ad-44f5-9f53-28062e5c701f",
   "metadata": {},
   "source": [
    "# Strings in Python"
   ]
  },
  {
   "cell_type": "markdown",
   "id": "0f5af4cc-a83d-44ea-93ad-5adcc66a8470",
   "metadata": {},
   "source": [
    "#### Strings are collections of characters that are in sequence. These characters are enclosed in single, double, and triple quotes ' ', \" \", and \"'  \"' respectively. \n",
    "\n",
    "#### Indexing in string (Indexing starts with 0)\n",
    "\n",
    "#### Slicing in string also starts with 0 but it takes range(0:10)\n",
    "#### Indexing and slicing is basically accessing a value from a variable at any position. \n"
   ]
  },
  {
   "cell_type": "code",
   "execution_count": 356,
   "id": "89417014-88f2-4996-b1fe-3012a852bb08",
   "metadata": {},
   "outputs": [
    {
     "data": {
      "text/plain": [
       "'Hami Niaxi'"
      ]
     },
     "execution_count": 356,
     "metadata": {},
     "output_type": "execute_result"
    }
   ],
   "source": [
    "## Single quote\n",
    "call_me1 = 'Hami Niaxi'\n",
    "call_me1"
   ]
  },
  {
   "cell_type": "code",
   "execution_count": 358,
   "id": "a76382a6-b32d-4320-9942-a9e79efbe520",
   "metadata": {},
   "outputs": [
    {
     "data": {
      "text/plain": [
       "'Hamid Niaxi'"
      ]
     },
     "execution_count": 358,
     "metadata": {},
     "output_type": "execute_result"
    }
   ],
   "source": [
    "## Double quotes\n",
    "call_me2 = \"Hamid Niaxi\"\n",
    "call_me2"
   ]
  },
  {
   "cell_type": "code",
   "execution_count": 360,
   "id": "560664a8-24ca-4085-9ca8-f18f4987c76a",
   "metadata": {},
   "outputs": [
    {
     "data": {
      "text/plain": [
       "'Hamid Niazi'"
      ]
     },
     "execution_count": 360,
     "metadata": {},
     "output_type": "execute_result"
    }
   ],
   "source": [
    "## Triple quotes\n",
    "call_me3 = \"Hamid Niazi\"\n",
    "call_me3"
   ]
  },
  {
   "cell_type": "code",
   "execution_count": 367,
   "id": "effe7722-748f-4015-824d-5522ec3c6604",
   "metadata": {},
   "outputs": [
    {
     "data": {
      "text/plain": [
       "' My Name is Muhammad Hamid Khan Niazi\\nI am a professional Business Analyst. \\nMy research interests are Machine Learning and Computer Vision\\n'"
      ]
     },
     "execution_count": 367,
     "metadata": {},
     "output_type": "execute_result"
    }
   ],
   "source": [
    "## Multi Lines\n",
    "call_me_multi = \"\"\" My Name is Muhammad Hamid Khan Niazi\n",
    "I am a professional Business Analyst. \n",
    "My research interests are Machine Learning and Computer Vision\n",
    "\"\"\"\n",
    "call_me_multi"
   ]
  },
  {
   "cell_type": "markdown",
   "id": "b73f366c-51d8-4412-a877-d26e69e592ce",
   "metadata": {},
   "source": [
    "#### Indexing "
   ]
  },
  {
   "cell_type": "code",
   "execution_count": 377,
   "id": "382eb0dc-2e6f-47e8-b894-baa4f4b4e2fa",
   "metadata": {},
   "outputs": [
    {
     "data": {
      "text/plain": [
       "['Muhammad', 'Hamid', 'Khan', 'Niazi']"
      ]
     },
     "execution_count": 377,
     "metadata": {},
     "output_type": "execute_result"
    }
   ],
   "source": [
    "call_me_indx= [\"Muhammad\", \"Hamid\", \"Khan\", \"Niazi\"]\n",
    "call_me_indx"
   ]
  },
  {
   "cell_type": "code",
   "execution_count": 383,
   "id": "1d300ba4-52d5-4901-ad7e-def749d01865",
   "metadata": {},
   "outputs": [
    {
     "data": {
      "text/plain": [
       "'Muhammad'"
      ]
     },
     "execution_count": 383,
     "metadata": {},
     "output_type": "execute_result"
    }
   ],
   "source": [
    "call_me_indx[0]"
   ]
  },
  {
   "cell_type": "code",
   "execution_count": 385,
   "id": "1782ba54-ffc5-456f-af92-961e083920db",
   "metadata": {},
   "outputs": [
    {
     "data": {
      "text/plain": [
       "'Hamid'"
      ]
     },
     "execution_count": 385,
     "metadata": {},
     "output_type": "execute_result"
    }
   ],
   "source": [
    "call_me_indx[1]"
   ]
  },
  {
   "cell_type": "code",
   "execution_count": 387,
   "id": "65d32c97-9d0a-4b8e-b708-7023b5111739",
   "metadata": {},
   "outputs": [
    {
     "data": {
      "text/plain": [
       "'Khan'"
      ]
     },
     "execution_count": 387,
     "metadata": {},
     "output_type": "execute_result"
    }
   ],
   "source": [
    "call_me_indx[2]"
   ]
  },
  {
   "cell_type": "code",
   "execution_count": 389,
   "id": "3666920f-69e0-4188-9ca4-24029dac4c60",
   "metadata": {},
   "outputs": [
    {
     "data": {
      "text/plain": [
       "'Niazi'"
      ]
     },
     "execution_count": 389,
     "metadata": {},
     "output_type": "execute_result"
    }
   ],
   "source": [
    "call_me_indx[3]"
   ]
  },
  {
   "cell_type": "code",
   "execution_count": 391,
   "id": "0e145fb8-9034-48db-bf30-cd257b469671",
   "metadata": {},
   "outputs": [
    {
     "data": {
      "text/plain": [
       "('Muhammad', 'Hamid', 'Khan', 'Niazi')"
      ]
     },
     "execution_count": 391,
     "metadata": {},
     "output_type": "execute_result"
    }
   ],
   "source": [
    "call_me_indx[0], call_me_indx[1], call_me_indx[2], call_me_indx[3]"
   ]
  },
  {
   "cell_type": "code",
   "execution_count": 393,
   "id": "4f409701-d405-4b13-bda1-7de1b9845037",
   "metadata": {},
   "outputs": [
    {
     "data": {
      "text/plain": [
       "('Niazi', 'Khan', 'Hamid', 'Muhammad')"
      ]
     },
     "execution_count": 393,
     "metadata": {},
     "output_type": "execute_result"
    }
   ],
   "source": [
    "call_me_indx[3], call_me_indx[2], call_me_indx[1], call_me_indx[0]"
   ]
  },
  {
   "cell_type": "code",
   "execution_count": 395,
   "id": "237bc175-5893-42fd-92db-72b29f16f301",
   "metadata": {},
   "outputs": [
    {
     "data": {
      "text/plain": [
       "('Khan', 'Muhammad', 'Hamid', 'Khan', 'Niazi')"
      ]
     },
     "execution_count": 395,
     "metadata": {},
     "output_type": "execute_result"
    }
   ],
   "source": [
    "call_me_indx[2],call_me_indx[0], call_me_indx[1], call_me_indx[2], call_me_indx[3]"
   ]
  },
  {
   "cell_type": "markdown",
   "id": "7a497525-ddb0-4da5-b9b0-e2d01dc1e6f4",
   "metadata": {},
   "source": [
    "#### Slicing "
   ]
  },
  {
   "cell_type": "code",
   "execution_count": 397,
   "id": "997aa01e-21dd-4b92-838d-1eaa78b8f01c",
   "metadata": {},
   "outputs": [
    {
     "data": {
      "text/plain": [
       "' My Name is Muhammad Hamid Khan Niazi\\nI am a professional Business Analyst. \\nMy research interests are Machine Learning and Computer Vision\\n'"
      ]
     },
     "execution_count": 397,
     "metadata": {},
     "output_type": "execute_result"
    }
   ],
   "source": [
    "call_me_slic = \"\"\" My Name is Muhammad Hamid Khan Niazi\n",
    "I am a professional Business Analyst. \n",
    "My research interests are Machine Learning and Computer Vision\n",
    "\"\"\"\n",
    "call_me_slic"
   ]
  },
  {
   "cell_type": "code",
   "execution_count": 421,
   "id": "1cc1f91d-30be-4cb3-b71a-c6cc7b3017fd",
   "metadata": {},
   "outputs": [
    {
     "data": {
      "text/plain": [
       "' My Name is Muhammad Hamid Khan Niazi'"
      ]
     },
     "execution_count": 421,
     "metadata": {},
     "output_type": "execute_result"
    }
   ],
   "source": [
    "call_me_slic[:37]"
   ]
  },
  {
   "cell_type": "code",
   "execution_count": 417,
   "id": "f8337541-b626-4db6-b17b-c8ab0299bcb0",
   "metadata": {},
   "outputs": [
    {
     "data": {
      "text/plain": [
       "'I am a professional Business Analyst.'"
      ]
     },
     "execution_count": 417,
     "metadata": {},
     "output_type": "execute_result"
    }
   ],
   "source": [
    "call_me_slic[38:75]"
   ]
  },
  {
   "cell_type": "code",
   "execution_count": 419,
   "id": "742d7385-ee0f-43f9-bb3d-e8d1ba7ff656",
   "metadata": {},
   "outputs": [
    {
     "data": {
      "text/plain": [
       "'\\nMy research interests are Machine Learning and Computer Vision\\n'"
      ]
     },
     "execution_count": 419,
     "metadata": {},
     "output_type": "execute_result"
    }
   ],
   "source": [
    "call_me_slic[76:]"
   ]
  },
  {
   "cell_type": "markdown",
   "id": "719853de-e995-4ce6-bf5e-7ab3cac33031",
   "metadata": {},
   "source": [
    "### Length of the String \n",
    "#### len() method is used to count the numbers of character in Python. "
   ]
  },
  {
   "cell_type": "code",
   "execution_count": 424,
   "id": "64425d3f-6619-41a6-ae4f-774af5205ce5",
   "metadata": {},
   "outputs": [
    {
     "data": {
      "text/plain": [
       "' My Name is Muhammad Hamid Khan Niazi\\nI am a professional Business Analyst. \\nMy research interests are Machine Learning and Computer Vision\\n'"
      ]
     },
     "execution_count": 424,
     "metadata": {},
     "output_type": "execute_result"
    }
   ],
   "source": [
    "call_me_len = \"\"\" My Name is Muhammad Hamid Khan Niazi\n",
    "I am a professional Business Analyst. \n",
    "My research interests are Machine Learning and Computer Vision\n",
    "\"\"\"\n",
    "call_me_len"
   ]
  },
  {
   "cell_type": "code",
   "execution_count": 429,
   "id": "4e6028dc-db47-418b-8fca-9815ffe300e8",
   "metadata": {},
   "outputs": [
    {
     "data": {
      "text/plain": [
       "140"
      ]
     },
     "execution_count": 429,
     "metadata": {},
     "output_type": "execute_result"
    }
   ],
   "source": [
    "len(call_me_len)"
   ]
  },
  {
   "cell_type": "code",
   "execution_count": null,
   "id": "125c0c11-1f45-4d3b-a915-37f5b17d11d6",
   "metadata": {},
   "outputs": [],
   "source": [
    "###  Variable call_me_len has 140 characters "
   ]
  },
  {
   "cell_type": "markdown",
   "id": "8db473d7-696e-4cf8-aae5-d4b4424ca092",
   "metadata": {},
   "source": [
    "### Converting string characters into lowercase.\n",
    "#### lower() method converts the character into lowercase. For example; lower('Muhammad Hamid Khan') ..'muhammad hamid khan'"
   ]
  },
  {
   "cell_type": "code",
   "execution_count": 433,
   "id": "dd930987-4921-40cf-b791-eaec53d1f465",
   "metadata": {},
   "outputs": [
    {
     "data": {
      "text/plain": [
       "'MUHAMMAD HAMID KHAN'"
      ]
     },
     "execution_count": 433,
     "metadata": {},
     "output_type": "execute_result"
    }
   ],
   "source": [
    "making_lower = 'MUHAMMAD HAMID KHAN'\n",
    "making_lower"
   ]
  },
  {
   "cell_type": "code",
   "execution_count": 437,
   "id": "0b19a703-35f8-4ab9-8cf4-d9dd8c1b9aa0",
   "metadata": {},
   "outputs": [
    {
     "data": {
      "text/plain": [
       "'muhammad hamid khan'"
      ]
     },
     "execution_count": 437,
     "metadata": {},
     "output_type": "execute_result"
    }
   ],
   "source": [
    "(making_lower).lower()"
   ]
  },
  {
   "cell_type": "markdown",
   "id": "978e8495-b781-4236-9375-e74437adb013",
   "metadata": {},
   "source": [
    "### Converting string characters into Uppercase.\n",
    "#### upper() method converts the character into uppercase. For example; upper('muhammad hamid khan') ..'MUHAMMAD HAMID KHAN'"
   ]
  },
  {
   "cell_type": "code",
   "execution_count": 441,
   "id": "8263b8d5-b13d-444b-b0ef-3f42b45492e2",
   "metadata": {},
   "outputs": [
    {
     "data": {
      "text/plain": [
       "'muhammad hamid khan'"
      ]
     },
     "execution_count": 441,
     "metadata": {},
     "output_type": "execute_result"
    }
   ],
   "source": [
    "making_upper = 'muhammad hamid khan'\n",
    "making_upper "
   ]
  },
  {
   "cell_type": "code",
   "execution_count": 443,
   "id": "9eea344a-d7de-4c64-9e93-d0c5ee1c44eb",
   "metadata": {},
   "outputs": [
    {
     "data": {
      "text/plain": [
       "'MUHAMMAD HAMID KHAN'"
      ]
     },
     "execution_count": 443,
     "metadata": {},
     "output_type": "execute_result"
    }
   ],
   "source": [
    "making_upper.upper()"
   ]
  },
  {
   "cell_type": "markdown",
   "id": "312bb24e-54f9-444f-96e4-f3cbe619b908",
   "metadata": {},
   "source": [
    "### Replacing a Sub-string\n",
    "#### .replace() method takes two parameters such as New_Value, and Old_Value. It is used to make changes or corrections in the existing strings. "
   ]
  },
  {
   "cell_type": "code",
   "execution_count": 448,
   "id": "0ebbe654-a1ef-4c8e-9a04-7976892b2a28",
   "metadata": {},
   "outputs": [
    {
     "data": {
      "text/plain": [
       "'Muhammad Hami Niaxi'"
      ]
     },
     "execution_count": 448,
     "metadata": {},
     "output_type": "execute_result"
    }
   ],
   "source": [
    "making_replacement = \"Muhammad Hami Niaxi\"\n",
    "making_replacement "
   ]
  },
  {
   "cell_type": "code",
   "execution_count": 468,
   "id": "641587a2-ca5c-48ac-9bda-d57649bae9e9",
   "metadata": {},
   "outputs": [
    {
     "data": {
      "text/plain": [
       "'Muhammad Hamid Niazi'"
      ]
     },
     "execution_count": 468,
     "metadata": {},
     "output_type": "execute_result"
    }
   ],
   "source": [
    "making_replacement.replace(\"Hami Niaxi\", \"Hamid Niazi\")"
   ]
  },
  {
   "cell_type": "markdown",
   "id": "3fc7996a-b9e7-4fba-bb84-b259349a8d46",
   "metadata": {},
   "source": [
    "### Number of occurance of Sub-string \n",
    "#### .count() method is used to count the accurance of any character in the string. It simply count which character has been accured how many times. "
   ]
  },
  {
   "cell_type": "code",
   "execution_count": 475,
   "id": "6dc46a97-6ac0-4e94-b7e1-44ec63c6699f",
   "metadata": {},
   "outputs": [
    {
     "data": {
      "text/plain": [
       "3"
      ]
     },
     "execution_count": 475,
     "metadata": {},
     "output_type": "execute_result"
    }
   ],
   "source": [
    "my_intro = \"My name is Muhammad Hamid Khan Niazi. I belonged to a Niazi tribe. Niazi tribe migrated from Afghanistan in the early 18th Century.\"\n",
    "my_intro.count(\"Niazi\")"
   ]
  },
  {
   "cell_type": "markdown",
   "id": "db2986d0-f16d-4360-9faa-82cf158294c3",
   "metadata": {},
   "source": [
    "### Findind a index of the String\n",
    "#### .find() method in used to get the index of the string. It basically tells about the exact position of that word or character in the substring. "
   ]
  },
  {
   "cell_type": "code",
   "execution_count": 490,
   "id": "a61bcec2-9204-430e-ae7e-dd6a7ea05b08",
   "metadata": {},
   "outputs": [
    {
     "data": {
      "text/plain": [
       "0"
      ]
     },
     "execution_count": 490,
     "metadata": {},
     "output_type": "execute_result"
    }
   ],
   "source": [
    "known_as  = 'Muhammad Hamid Khan Niazi'\n",
    "known_as.find('Muhammad')"
   ]
  },
  {
   "cell_type": "code",
   "execution_count": 492,
   "id": "ea837574-fbaa-4082-b19a-036ff4fadef2",
   "metadata": {},
   "outputs": [
    {
     "data": {
      "text/plain": [
       "9"
      ]
     },
     "execution_count": 492,
     "metadata": {},
     "output_type": "execute_result"
    }
   ],
   "source": [
    "known_as.find('Hamid')\n"
   ]
  },
  {
   "cell_type": "code",
   "execution_count": 494,
   "id": "c41eeede-9aa6-486c-9de7-408efa633e83",
   "metadata": {},
   "outputs": [
    {
     "data": {
      "text/plain": [
       "15"
      ]
     },
     "execution_count": 494,
     "metadata": {},
     "output_type": "execute_result"
    }
   ],
   "source": [
    "known_as.find('Khan')"
   ]
  },
  {
   "cell_type": "code",
   "execution_count": 496,
   "id": "8f36bbf3-7eb7-4d36-9504-89626e86321e",
   "metadata": {},
   "outputs": [
    {
     "data": {
      "text/plain": [
       "20"
      ]
     },
     "execution_count": 496,
     "metadata": {},
     "output_type": "execute_result"
    }
   ],
   "source": [
    "known_as.find('Niazi')"
   ]
  },
  {
   "cell_type": "code",
   "execution_count": null,
   "id": "4acdb0aa-031f-497c-af51-8391aa1f52e5",
   "metadata": {},
   "outputs": [],
   "source": [
    "# Above outputs are basically telling about the starting postion of that words or character in the sub-string. "
   ]
  },
  {
   "cell_type": "markdown",
   "id": "d53087da-8a6c-46e8-874d-78fbb801f501",
   "metadata": {},
   "source": [
    "### Splitting the string\n",
    "#### .split() method splits the string into different parts. It basically splits the string into sub-strings."
   ]
  },
  {
   "cell_type": "code",
   "execution_count": 513,
   "id": "c6f6c047-6127-4402-be55-1aafc932038b",
   "metadata": {},
   "outputs": [
    {
     "data": {
      "text/plain": [
       "['Muhammad', ' Hamid ', 'Khan ', 'Niazi']"
      ]
     },
     "execution_count": 513,
     "metadata": {},
     "output_type": "execute_result"
    }
   ],
   "source": [
    "ismy_gramii  = 'Muhammad, Hamid ,Khan ,Niazi'\n",
    "splitted_name = ismy_gramii.split(\",\")\n",
    "splitted_name\n"
   ]
  },
  {
   "cell_type": "code",
   "execution_count": null,
   "id": "8b8250fb-6044-406b-93e9-7d71299a445f",
   "metadata": {},
   "outputs": [],
   "source": [
    "## Indexing can varify the splitting "
   ]
  },
  {
   "cell_type": "code",
   "execution_count": 517,
   "id": "97634680-a397-4faa-b2a4-f447db88160b",
   "metadata": {},
   "outputs": [
    {
     "data": {
      "text/plain": [
       "'h'"
      ]
     },
     "execution_count": 517,
     "metadata": {},
     "output_type": "execute_result"
    }
   ],
   "source": [
    "ismy_gramii[2]  "
   ]
  },
  {
   "cell_type": "code",
   "execution_count": 515,
   "id": "db20cd0d-e418-454f-a6ea-a46c40a51034",
   "metadata": {},
   "outputs": [
    {
     "data": {
      "text/plain": [
       "'Khan '"
      ]
     },
     "execution_count": 515,
     "metadata": {},
     "output_type": "execute_result"
    }
   ],
   "source": [
    "splitted_name[2]"
   ]
  },
  {
   "cell_type": "code",
   "execution_count": null,
   "id": "5c3ce11e-1ff8-4a02-8743-f2720ff02dfb",
   "metadata": {},
   "outputs": [],
   "source": [
    "## The outputs of the indexing validate the successful implementation of splitting method. "
   ]
  },
  {
   "cell_type": "markdown",
   "id": "82bb33d4-27d2-47a0-bf24-9f0e7de30dc1",
   "metadata": {},
   "source": [
    "# Python Tuples"
   ]
  },
  {
   "cell_type": "markdown",
   "id": "202288fa-4745-4cf9-ad6a-8664cd15fff0",
   "metadata": {},
   "source": [
    "#### Python tuple is a data structure in Python. It is an ordered collection of heterogeneous values that are stored in a single variable and enclosed in round brackets *( )*. In addition, tuples are immutable which means that once the values are stored they can't be changed or altered.  "
   ]
  },
  {
   "cell_type": "code",
   "execution_count": 1,
   "id": "6b929cd5-33bf-42e0-bb43-ca1d0a39947c",
   "metadata": {},
   "outputs": [
    {
     "data": {
      "text/plain": [
       "(22486, 'Muhammad Hamid Khan', 'MS-7352', 3466993886, 23, 'Unmarried')"
      ]
     },
     "execution_count": 1,
     "metadata": {},
     "output_type": "execute_result"
    }
   ],
   "source": [
    "tuple_01 = (22486, 'Muhammad Hamid Khan', 'MS-7352', 3466993886, 23, 'Unmarried')\n",
    "tuple_01"
   ]
  },
  {
   "cell_type": "code",
   "execution_count": 35,
   "id": "4bcba6f5-2c3a-4a78-964e-fd93b1d536ea",
   "metadata": {},
   "outputs": [
    {
     "data": {
      "text/plain": [
       "tuple"
      ]
     },
     "execution_count": 35,
     "metadata": {},
     "output_type": "execute_result"
    }
   ],
   "source": [
    "type(tuple_01)"
   ]
  },
  {
   "cell_type": "markdown",
   "id": "51e66ca7-24c6-4dde-b6c4-4f6e6b26f2a4",
   "metadata": {},
   "source": [
    "#### Indexing\n",
    "#### Indexing is basically accessing any value from tuple at any position.It takes the numeric address of the value like [23]."
   ]
  },
  {
   "cell_type": "code",
   "execution_count": 45,
   "id": "fb4b0bc5-d334-4ed0-97c5-4a2a81a8798f",
   "metadata": {},
   "outputs": [
    {
     "data": {
      "text/plain": [
       "'MS-7352'"
      ]
     },
     "execution_count": 45,
     "metadata": {},
     "output_type": "execute_result"
    }
   ],
   "source": [
    "tuple_01[2]"
   ]
  },
  {
   "cell_type": "code",
   "execution_count": 47,
   "id": "f39bc759-bb84-4955-9a52-cd23af5fd9af",
   "metadata": {},
   "outputs": [
    {
     "data": {
      "text/plain": [
       "'Unmarried'"
      ]
     },
     "execution_count": 47,
     "metadata": {},
     "output_type": "execute_result"
    }
   ],
   "source": [
    "tuple_01[5]"
   ]
  },
  {
   "cell_type": "code",
   "execution_count": 5,
   "id": "e0b1aa7f-dbad-42f9-9fdd-6324975a7009",
   "metadata": {},
   "outputs": [
    {
     "data": {
      "text/plain": [
       "3466993886"
      ]
     },
     "execution_count": 5,
     "metadata": {},
     "output_type": "execute_result"
    }
   ],
   "source": [
    "tuple_01[3]"
   ]
  },
  {
   "cell_type": "markdown",
   "id": "218d2a44-9b4e-4e42-818b-8984d9a3c519",
   "metadata": {},
   "source": [
    "#### Slicing \n",
    "#### Slicing is also used to access any value from the tuple. But it takes the address in a range. Like [2:17], it will start from a character on numeric address 3 and will access up to 17. But it does not include the character at numeric address 17."
   ]
  },
  {
   "cell_type": "code",
   "execution_count": 11,
   "id": "b1946f7a-83ed-48c3-9ba4-77de2a88bcb6",
   "metadata": {},
   "outputs": [
    {
     "data": {
      "text/plain": [
       "'My name is Muhammad Hamid Khan Niazi. I belonged to a Niazi tribe. Niazi tribe migrated from Afghanistan in the early 18th Century.'"
      ]
     },
     "execution_count": 11,
     "metadata": {},
     "output_type": "execute_result"
    }
   ],
   "source": [
    "tuple_2 = (\"My name is Muhammad Hamid Khan Niazi. I belonged to a Niazi tribe. Niazi tribe migrated from Afghanistan in the early 18th Century.\")\n",
    "tuple_2"
   ]
  },
  {
   "cell_type": "code",
   "execution_count": 64,
   "id": "6c3046b4-f30d-4ca8-9169-3b126781a5e6",
   "metadata": {},
   "outputs": [
    {
     "data": {
      "text/plain": [
       "'My name is Muhammad Hamid Khan Niazi. I belonged to a Niazi tribe. Niazi tribe migrated from Afghanistan in the early 18th Century.'"
      ]
     },
     "execution_count": 64,
     "metadata": {},
     "output_type": "execute_result"
    }
   ],
   "source": [
    "tuple_2[0:]"
   ]
  },
  {
   "cell_type": "code",
   "execution_count": 66,
   "id": "aeeec384-f29c-423d-972f-74a11ac00663",
   "metadata": {},
   "outputs": [
    {
     "data": {
      "text/plain": [
       "'My name is Muhammad Hamid Khan Niazi. I belonged to a Niazi tribe. Niazi tribe migrated from Afghanistan in the early 18th Century'"
      ]
     },
     "execution_count": 66,
     "metadata": {},
     "output_type": "execute_result"
    }
   ],
   "source": [
    "tuple_2[:-1]"
   ]
  },
  {
   "cell_type": "code",
   "execution_count": 70,
   "id": "7c9ad0a5-6c19-4633-a933-9d72cc0642ef",
   "metadata": {},
   "outputs": [
    {
     "data": {
      "text/plain": [
       "'My name is Muhammad Hamid Khan '"
      ]
     },
     "execution_count": 70,
     "metadata": {},
     "output_type": "execute_result"
    }
   ],
   "source": [
    "tuple_2[0:31]"
   ]
  },
  {
   "cell_type": "code",
   "execution_count": 80,
   "id": "f271e452-6bda-4efb-8ae8-7eff5f7b4102",
   "metadata": {},
   "outputs": [
    {
     "data": {
      "text/plain": [
       "'I belonged to a Niazi tribe.'"
      ]
     },
     "execution_count": 80,
     "metadata": {},
     "output_type": "execute_result"
    }
   ],
   "source": [
    "tuple_2[38:66] "
   ]
  },
  {
   "cell_type": "markdown",
   "id": "7c3dd8a1-a9e6-4bf3-9998-afc86cbeeff0",
   "metadata": {},
   "source": [
    "####  Tuple Modifying"
   ]
  },
  {
   "cell_type": "code",
   "execution_count": 27,
   "id": "fe6326b5-6a1c-4633-b458-f77959457b81",
   "metadata": {},
   "outputs": [
    {
     "ename": "TypeError",
     "evalue": "'str' object does not support item assignment",
     "output_type": "error",
     "traceback": [
      "\u001b[1;31m---------------------------------------------------------------------------\u001b[0m",
      "\u001b[1;31mTypeError\u001b[0m                                 Traceback (most recent call last)",
      "Cell \u001b[1;32mIn[27], line 1\u001b[0m\n\u001b[1;32m----> 1\u001b[0m tuple_2[\u001b[38;5;241m19\u001b[39m:\u001b[38;5;241m25\u001b[39m]\u001b[38;5;241m=\u001b[39m\u001b[38;5;124m\"\u001b[39m\u001b[38;5;124mHami\u001b[39m\u001b[38;5;124m\"\u001b[39m\n",
      "\u001b[1;31mTypeError\u001b[0m: 'str' object does not support item assignment"
     ]
    }
   ],
   "source": [
    "tuple_2[19:25]=\"Hami\""
   ]
  },
  {
   "cell_type": "markdown",
   "id": "0b526b04-7677-40f8-b369-49dabaf55e0a",
   "metadata": {},
   "source": [
    "#### This showed this error becuase tuples are imputables. "
   ]
  },
  {
   "cell_type": "markdown",
   "id": "c875397b-2ee9-4ae2-9940-8af2fe2ff679",
   "metadata": {},
   "source": [
    "### Finding lenght of tuple "
   ]
  },
  {
   "cell_type": "code",
   "execution_count": 35,
   "id": "b6f61420-e430-46f1-93d6-28efb330f32a",
   "metadata": {},
   "outputs": [
    {
     "data": {
      "text/plain": [
       "'My name is Muhammad Hamid Khan Niazi. I belonged to a Niazi tribe. Niazi tribe migrated from Afghanistan in the early 18th Century.'"
      ]
     },
     "execution_count": 35,
     "metadata": {},
     "output_type": "execute_result"
    }
   ],
   "source": [
    "tuple_2 "
   ]
  },
  {
   "cell_type": "code",
   "execution_count": 37,
   "id": "8387339d-d0b2-44f2-a752-904f467ac2fe",
   "metadata": {},
   "outputs": [
    {
     "data": {
      "text/plain": [
       "131"
      ]
     },
     "execution_count": 37,
     "metadata": {},
     "output_type": "execute_result"
    }
   ],
   "source": [
    "len(tuple_2)"
   ]
  },
  {
   "cell_type": "markdown",
   "id": "1b62c418-956e-47d0-83d1-5f78b9093327",
   "metadata": {},
   "source": [
    "##### Total there are 131 characters are in tuple_2."
   ]
  },
  {
   "cell_type": "markdown",
   "id": "4f26421a-a8d5-4dec-8375-55ba572b63ad",
   "metadata": {},
   "source": [
    "#### Concatenating Tuple"
   ]
  },
  {
   "cell_type": "code",
   "execution_count": 74,
   "id": "9908d3d8-ddbd-4e13-8578-38a7728512eb",
   "metadata": {},
   "outputs": [],
   "source": [
    "tuple_a = (\" Muhammad Hamid\")\n",
    "tuple_b = (\" Niazi\")\n",
    "    "
   ]
  },
  {
   "cell_type": "code",
   "execution_count": 76,
   "id": "5cd59d4e-c280-4959-92ef-5e6c3e896a13",
   "metadata": {},
   "outputs": [
    {
     "data": {
      "text/plain": [
       "' Muhammad Hamid Niazi'"
      ]
     },
     "execution_count": 76,
     "metadata": {},
     "output_type": "execute_result"
    }
   ],
   "source": [
    "tuple_can = tuple_a + tuple_b\n",
    "tuple_can"
   ]
  },
  {
   "cell_type": "markdown",
   "id": "28a8ad4c-38fb-4a1c-b78d-cda58680e88c",
   "metadata": {},
   "source": [
    "#### Tuple cancatenating is possible which is practiced above in abovr line. Elements from left side of the + operator come first and otherwise.  "
   ]
  },
  {
   "cell_type": "markdown",
   "id": "5c342f1a-ff26-483a-9a0d-bcfa4b2f0534",
   "metadata": {},
   "source": [
    "### Repeating Tuple element in the Tuple "
   ]
  },
  {
   "cell_type": "code",
   "execution_count": 78,
   "id": "c29ea1b5-0c29-42f8-ad1f-8eddf8f8836a",
   "metadata": {},
   "outputs": [
    {
     "data": {
      "text/plain": [
       "' Muhammad Hamid Niazi'"
      ]
     },
     "execution_count": 78,
     "metadata": {},
     "output_type": "execute_result"
    }
   ],
   "source": [
    "tuple_can"
   ]
  },
  {
   "cell_type": "code",
   "execution_count": 80,
   "id": "9ad5235d-9f9c-4598-8808-59c6c9a1f936",
   "metadata": {},
   "outputs": [
    {
     "data": {
      "text/plain": [
       "' Muhammad Hamid Niazi Muhammad Hamid Niazi Muhammad Hamid Niazi'"
      ]
     },
     "execution_count": 80,
     "metadata": {},
     "output_type": "execute_result"
    }
   ],
   "source": [
    "tuple_can * 3"
   ]
  },
  {
   "cell_type": "markdown",
   "id": "4eb14df8-bbd8-4bc2-9901-bc474de030bd",
   "metadata": {},
   "source": [
    "### Repeating and cancatenating in the same line of code"
   ]
  },
  {
   "cell_type": "code",
   "execution_count": 72,
   "id": "675bcde4-b4a4-42fd-926c-cd68edfd6afc",
   "metadata": {},
   "outputs": [
    {
     "data": {
      "text/plain": [
       "'Imran Khan Niazi Imran Khan Niazi  804'"
      ]
     },
     "execution_count": 72,
     "metadata": {},
     "output_type": "execute_result"
    }
   ],
   "source": [
    "tuple_a1 = \"Imran Khan Niazi \"\n",
    "tuple_a2 = \" 804\"\n",
    "tuple_a1*2 + tuple_a2"
   ]
  },
  {
   "cell_type": "markdown",
   "id": "ce08e15e-fd28-437a-bfbf-25b7bd5b558b",
   "metadata": {},
   "source": [
    "## Tuple Functions\n",
    "### Minimum Value"
   ]
  },
  {
   "cell_type": "code",
   "execution_count": 87,
   "id": "1b017a8d-c749-405d-b57b-424ca9e8acac",
   "metadata": {},
   "outputs": [
    {
     "data": {
      "text/plain": [
       "2"
      ]
     },
     "execution_count": 87,
     "metadata": {},
     "output_type": "execute_result"
    }
   ],
   "source": [
    "tup_min = (34,34,22,13,6,4,2,66,33,24)\n",
    "min(tup_min)"
   ]
  },
  {
   "cell_type": "markdown",
   "id": "49e9bf16-4362-4390-9b39-1dc3e5194529",
   "metadata": {},
   "source": [
    "##### Mininmum value is \"2\"."
   ]
  },
  {
   "cell_type": "markdown",
   "id": "df779a7e-814c-4b8a-a38e-0178ff100a1f",
   "metadata": {},
   "source": [
    "### Maximum Value"
   ]
  },
  {
   "cell_type": "code",
   "execution_count": 91,
   "id": "48cc1a69-d45f-49fa-bc10-32d9130d02b9",
   "metadata": {},
   "outputs": [
    {
     "data": {
      "text/plain": [
       "66"
      ]
     },
     "execution_count": 91,
     "metadata": {},
     "output_type": "execute_result"
    }
   ],
   "source": [
    "tup_max = (34,34,22,13,6,4,2,66,33,24)\n",
    "max(tup_max)"
   ]
  },
  {
   "cell_type": "markdown",
   "id": "810458bb-9a27-488e-a7be-1b527fe6b7b5",
   "metadata": {},
   "source": [
    "##### Maximum value is \"66\""
   ]
  },
  {
   "cell_type": "markdown",
   "id": "266a00a3-cbc1-4ab1-b1fd-4ff960355f2b",
   "metadata": {},
   "source": [
    "# List in Python"
   ]
  },
  {
   "cell_type": "markdown",
   "id": "5d78e340-44e0-4768-87c8-0da404fa35c7",
   "metadata": {},
   "source": [
    "#### List is the collection of elements that are enclosed in square brackets. [  ]\n",
    "#### List are mutable. It means taht values inside the list is changable. "
   ]
  },
  {
   "cell_type": "code",
   "execution_count": 99,
   "id": "492cfd46-490e-4dd0-a1c4-7aafc32958d6",
   "metadata": {},
   "outputs": [
    {
     "data": {
      "text/plain": [
       "['Imran', 'Ahmad', 'Khan', 'Niazi', 'Qadii_number', 804]"
      ]
     },
     "execution_count": 99,
     "metadata": {},
     "output_type": "execute_result"
    }
   ],
   "source": [
    "lst_1 = ['Imran', 'Ahmad', 'Khan', 'Niazi', 'Qadii_number', 804]\n",
    "lst_1"
   ]
  },
  {
   "cell_type": "code",
   "execution_count": 101,
   "id": "954e9cca-afd7-451c-ab3a-31f1895dd9e5",
   "metadata": {},
   "outputs": [
    {
     "data": {
      "text/plain": [
       "list"
      ]
     },
     "execution_count": 101,
     "metadata": {},
     "output_type": "execute_result"
    }
   ],
   "source": [
    "type(lst_1)"
   ]
  },
  {
   "cell_type": "markdown",
   "id": "ab4be5d9-f35e-4a07-817a-5cdc8bb83bd7",
   "metadata": {},
   "source": [
    "### Extracting individual elements from the list"
   ]
  },
  {
   "cell_type": "code",
   "execution_count": 108,
   "id": "240ecc62-03f8-4509-81dc-fcd38890c44a",
   "metadata": {},
   "outputs": [
    {
     "data": {
      "text/plain": [
       "'Imran'"
      ]
     },
     "execution_count": 108,
     "metadata": {},
     "output_type": "execute_result"
    }
   ],
   "source": [
    "# Indexing\n",
    "lst_1[0]"
   ]
  },
  {
   "cell_type": "code",
   "execution_count": 110,
   "id": "7bc2a897-a56a-468d-846d-f46d69f3ead3",
   "metadata": {},
   "outputs": [
    {
     "data": {
      "text/plain": [
       "'Niazi'"
      ]
     },
     "execution_count": 110,
     "metadata": {},
     "output_type": "execute_result"
    }
   ],
   "source": [
    "lst_1[3]"
   ]
  },
  {
   "cell_type": "code",
   "execution_count": 116,
   "id": "52527028-93e4-4319-b844-7d314b400caf",
   "metadata": {},
   "outputs": [
    {
     "data": {
      "text/plain": [
       "['Imran', 'Ahmad', 'Khan', 'Niazi']"
      ]
     },
     "execution_count": 116,
     "metadata": {},
     "output_type": "execute_result"
    }
   ],
   "source": [
    "# Slicing \n",
    "lst_1[0:4]"
   ]
  },
  {
   "cell_type": "code",
   "execution_count": 120,
   "id": "c4ec2877-45db-4045-a63b-d6d1b7dd1d60",
   "metadata": {},
   "outputs": [
    {
     "data": {
      "text/plain": [
       "['Qadii_number', 804]"
      ]
     },
     "execution_count": 120,
     "metadata": {},
     "output_type": "execute_result"
    }
   ],
   "source": [
    "lst_1[4:7]"
   ]
  },
  {
   "cell_type": "markdown",
   "id": "4cbdbbcf-4bfe-4ec4-a686-729dffaef49e",
   "metadata": {},
   "source": [
    "### Changing the element at index position"
   ]
  },
  {
   "cell_type": "code",
   "execution_count": 125,
   "id": "2b632355-775d-4a18-94a4-80e0ed26f231",
   "metadata": {},
   "outputs": [
    {
     "data": {
      "text/plain": [
       "['Imran', 'Hamid', 'Khan', 'Niazi', 'Qadii_number', 804]"
      ]
     },
     "execution_count": 125,
     "metadata": {},
     "output_type": "execute_result"
    }
   ],
   "source": [
    "lst_1[1]=\"Hamid\"\n",
    "lst_1"
   ]
  },
  {
   "cell_type": "markdown",
   "id": "c30a2e12-4f05-47e2-a70b-d1a088567397",
   "metadata": {},
   "source": [
    "### Appending a new element"
   ]
  },
  {
   "cell_type": "code",
   "execution_count": 133,
   "id": "06a87836-cb2f-4cf0-b181-261845681fe6",
   "metadata": {},
   "outputs": [
    {
     "data": {
      "text/plain": [
       "['Imran', 'Hamid', 'Khan', 'Niazi', 'Qadii_number', 804, 'A great leader']"
      ]
     },
     "execution_count": 133,
     "metadata": {},
     "output_type": "execute_result"
    }
   ],
   "source": [
    "lst_1.append(\"A great leader\")\n",
    "lst_1"
   ]
  },
  {
   "cell_type": "markdown",
   "id": "3d37d278-d09a-41d1-957d-8aef9122d8ab",
   "metadata": {},
   "source": [
    "### Poping the last element"
   ]
  },
  {
   "cell_type": "code",
   "execution_count": 138,
   "id": "04330e51-c3c3-460e-9c4f-b0e66d9b0955",
   "metadata": {},
   "outputs": [
    {
     "data": {
      "text/plain": [
       "['Imran', 'Hamid', 'Khan', 'Niazi', 'Qadii_number']"
      ]
     },
     "execution_count": 138,
     "metadata": {},
     "output_type": "execute_result"
    }
   ],
   "source": [
    "lst_1.pop()\n",
    "lst_1"
   ]
  },
  {
   "cell_type": "code",
   "execution_count": 140,
   "id": "1d74581e-931e-4ebf-a61c-4f35121faef6",
   "metadata": {},
   "outputs": [
    {
     "data": {
      "text/plain": [
       "['Imran', 'Hamid', 'Khan', 'Niazi', 'Qadii_number', 804]"
      ]
     },
     "execution_count": 140,
     "metadata": {},
     "output_type": "execute_result"
    }
   ],
   "source": [
    "lst_1.append(804)\n",
    "lst_1"
   ]
  },
  {
   "cell_type": "markdown",
   "id": "f4484af4-4ce7-4c27-ab19-c042640cad69",
   "metadata": {},
   "source": [
    "### Reversing element of a list"
   ]
  },
  {
   "cell_type": "code",
   "execution_count": 143,
   "id": "3edbcb5e-44c9-4413-9d40-ed961fc8bff3",
   "metadata": {},
   "outputs": [
    {
     "data": {
      "text/plain": [
       "[804, 'Qadii_number', 'Niazi', 'Khan', 'Hamid', 'Imran']"
      ]
     },
     "execution_count": 143,
     "metadata": {},
     "output_type": "execute_result"
    }
   ],
   "source": [
    "lst_1.reverse()\n",
    "lst_1"
   ]
  },
  {
   "cell_type": "markdown",
   "id": "74a4038b-127d-49da-aaa8-ef17b429d29e",
   "metadata": {},
   "source": [
    "### Insert element at a specifies index"
   ]
  },
  {
   "cell_type": "code",
   "execution_count": 146,
   "id": "0ee0b7e7-75e9-4a37-9bc1-ba186589f5d2",
   "metadata": {},
   "outputs": [
    {
     "data": {
      "text/plain": [
       "[804, 'Qadii_number', 'Niazi', 'Khan', 'Hamid', 'Imran']"
      ]
     },
     "execution_count": 146,
     "metadata": {},
     "output_type": "execute_result"
    }
   ],
   "source": [
    "lst_1"
   ]
  },
  {
   "cell_type": "code",
   "execution_count": 148,
   "id": "a914e29f-e499-4c31-ab2b-083ef13504aa",
   "metadata": {},
   "outputs": [
    {
     "data": {
      "text/plain": [
       "[804, 'Qadii_number', 'Niazi', 'Khan', 'Hamid', 'Imran', 'from Mianwali']"
      ]
     },
     "execution_count": 148,
     "metadata": {},
     "output_type": "execute_result"
    }
   ],
   "source": [
    "lst_1.insert(6, \"from Mianwali\")\n",
    "lst_1"
   ]
  },
  {
   "cell_type": "markdown",
   "id": "ec0b6bb7-b28c-49ae-a1e0-361b5909724f",
   "metadata": {},
   "source": [
    "### Sorting a list "
   ]
  },
  {
   "cell_type": "code",
   "execution_count": 161,
   "id": "ad620d28-7ab9-437b-b646-76753a53afe3",
   "metadata": {},
   "outputs": [],
   "source": [
    "lst_num =[\"Hamid Niazi\", \"Imran Niazi\", \"Sir Faheem shb\",\"Junaid Khalil\",\"Malik\", \"Ali\"] "
   ]
  },
  {
   "cell_type": "code",
   "execution_count": 163,
   "id": "f89057a6-3e79-41f6-b7fa-101ea07eeab7",
   "metadata": {},
   "outputs": [
    {
     "data": {
      "text/plain": [
       "['Ali',\n",
       " 'Hamid Niazi',\n",
       " 'Imran Niazi',\n",
       " 'Junaid Khalil',\n",
       " 'Malik',\n",
       " 'Sir Faheem shb']"
      ]
     },
     "execution_count": 163,
     "metadata": {},
     "output_type": "execute_result"
    }
   ],
   "source": [
    "lst_num.sort()\n",
    "lst_num"
   ]
  },
  {
   "cell_type": "markdown",
   "id": "401c1c3b-4ba6-478c-b9fd-fcd4a9c208ce",
   "metadata": {},
   "source": [
    "### Concatenating lists"
   ]
  },
  {
   "cell_type": "code",
   "execution_count": 167,
   "id": "08978099-c92d-49ef-a965-536b0feb9262",
   "metadata": {},
   "outputs": [
    {
     "data": {
      "text/plain": [
       "['Hamid', 'Khan', 'Niazi']"
      ]
     },
     "execution_count": 167,
     "metadata": {},
     "output_type": "execute_result"
    }
   ],
   "source": [
    "lst_can1 = ['Hamid']\n",
    "lst_can2 = ['Khan']\n",
    "lst_can3 = ['Niazi']\n",
    "lst_sum = lst_can1 + lst_can2 + lst_can3\n",
    "lst_sum"
   ]
  },
  {
   "cell_type": "markdown",
   "id": "f24f810e-3e77-49ae-bba8-651ceaae1b97",
   "metadata": {},
   "source": [
    "### Repeating Elements"
   ]
  },
  {
   "cell_type": "code",
   "execution_count": 170,
   "id": "cdc30ea8-c99f-4c23-864c-ca904bf5b4d5",
   "metadata": {},
   "outputs": [
    {
     "data": {
      "text/plain": [
       "['Hamid', 'Khan', 'Niazi']"
      ]
     },
     "execution_count": 170,
     "metadata": {},
     "output_type": "execute_result"
    }
   ],
   "source": [
    "lst_sum"
   ]
  },
  {
   "cell_type": "code",
   "execution_count": 172,
   "id": "078a062a-bd0b-4a9d-8099-9247a8990903",
   "metadata": {},
   "outputs": [
    {
     "data": {
      "text/plain": [
       "['Hamid', 'Khan', 'Niazi', 'Hamid', 'Khan', 'Niazi']"
      ]
     },
     "execution_count": 172,
     "metadata": {},
     "output_type": "execute_result"
    }
   ],
   "source": [
    "lst_sum*2"
   ]
  },
  {
   "cell_type": "markdown",
   "id": "6d6acbc4-deaa-41e1-93bb-0501d2ad0fcc",
   "metadata": {},
   "source": [
    "# Dictionary in Python"
   ]
  },
  {
   "cell_type": "markdown",
   "id": "459c4318-6679-42e1-bf0f-1f08486a535b",
   "metadata": {},
   "source": [
    "#### Dictionary is an un-ordered collection of key-value pairs enclosed wiht {}.\n",
    "#### Dictionary is mutable."
   ]
  },
  {
   "cell_type": "code",
   "execution_count": 177,
   "id": "90f1e51d-eafa-4dfe-ab03-dc2da5122d30",
   "metadata": {},
   "outputs": [
    {
     "data": {
      "text/plain": [
       "{'Hamid': 23, 'Nind': 24, 'Mansoor': 28, 'Muiz': 26}"
      ]
     },
     "execution_count": 177,
     "metadata": {},
     "output_type": "execute_result"
    }
   ],
   "source": [
    "## Name , age \n",
    "dic_1 = {'Hamid': 23, 'Nind': 24, 'Mansoor': 28, 'Muiz': 26}\n",
    "dic_1"
   ]
  },
  {
   "cell_type": "markdown",
   "id": "e38fa086-a526-430b-bc87-4d571ee61046",
   "metadata": {},
   "source": [
    "### Extracting keys"
   ]
  },
  {
   "cell_type": "code",
   "execution_count": 180,
   "id": "3012de2d-3a49-42b8-8dfb-ee792cc0b64c",
   "metadata": {},
   "outputs": [
    {
     "data": {
      "text/plain": [
       "dict_keys(['Hamid', 'Nind', 'Mansoor', 'Muiz'])"
      ]
     },
     "execution_count": 180,
     "metadata": {},
     "output_type": "execute_result"
    }
   ],
   "source": [
    "dic_1.keys()"
   ]
  },
  {
   "cell_type": "markdown",
   "id": "05b2fb64-aa08-4411-a78b-a9d4482d2c3f",
   "metadata": {},
   "source": [
    "### Extracting values"
   ]
  },
  {
   "cell_type": "code",
   "execution_count": 183,
   "id": "625224ef-1a73-4ead-9843-9d3b01d11f45",
   "metadata": {},
   "outputs": [
    {
     "data": {
      "text/plain": [
       "dict_values([23, 24, 28, 26])"
      ]
     },
     "execution_count": 183,
     "metadata": {},
     "output_type": "execute_result"
    }
   ],
   "source": [
    "dic_1.values()"
   ]
  },
  {
   "cell_type": "markdown",
   "id": "bc174ca2-50d9-48d5-b568-93c4aa77a4e2",
   "metadata": {},
   "source": [
    "### Adding a new element"
   ]
  },
  {
   "cell_type": "code",
   "execution_count": 186,
   "id": "eded4b57-7c0e-45c0-9db8-b865f2b7800c",
   "metadata": {},
   "outputs": [],
   "source": [
    "dic_1['Faisal']=29"
   ]
  },
  {
   "cell_type": "code",
   "execution_count": 188,
   "id": "499ed4e4-c580-40b0-8cd3-6091c15d21e4",
   "metadata": {},
   "outputs": [
    {
     "data": {
      "text/plain": [
       "{'Hamid': 23, 'Nind': 24, 'Mansoor': 28, 'Muiz': 26, 'Faisal': 29}"
      ]
     },
     "execution_count": 188,
     "metadata": {},
     "output_type": "execute_result"
    }
   ],
   "source": [
    "dic_1"
   ]
  },
  {
   "cell_type": "markdown",
   "id": "8191d528-d825-43ad-8b8d-eb39a7216df7",
   "metadata": {},
   "source": [
    "### Chaning an existing element"
   ]
  },
  {
   "cell_type": "code",
   "execution_count": 191,
   "id": "828513fd-c87a-4c0f-85cb-a19c47d8bac5",
   "metadata": {},
   "outputs": [
    {
     "data": {
      "text/plain": [
       "{'Hamid': 23, 'Nind': 24, 'Mansoor': 28, 'Muiz': 26, 'Faisal': 29}"
      ]
     },
     "execution_count": 191,
     "metadata": {},
     "output_type": "execute_result"
    }
   ],
   "source": [
    "dic_1"
   ]
  },
  {
   "cell_type": "code",
   "execution_count": 195,
   "id": "b5fbd03b-67f2-4fb4-8e4f-1cff8078e4af",
   "metadata": {},
   "outputs": [
    {
     "data": {
      "text/plain": [
       "{'Hamid': 24, 'Nind': 24, 'Mansoor': 28, 'Muiz': 26, 'Faisal': 29}"
      ]
     },
     "execution_count": 195,
     "metadata": {},
     "output_type": "execute_result"
    }
   ],
   "source": [
    "dic_1['Hamid']=24\n",
    "dic_1  ## Age changes from 23 to 24"
   ]
  },
  {
   "cell_type": "markdown",
   "id": "d39ca009-3e65-41f2-b7ea-3943a26c7d41",
   "metadata": {},
   "source": [
    "### Updating one dictionary element with other"
   ]
  },
  {
   "cell_type": "code",
   "execution_count": 198,
   "id": "b3f680cd-4bc6-4a97-8bf7-a364c90ef6e9",
   "metadata": {},
   "outputs": [
    {
     "data": {
      "text/plain": [
       "{'Hamid': 24,\n",
       " 'Nind': 24,\n",
       " 'Mansoor': 28,\n",
       " 'Muiz': 26,\n",
       " 'Faisal': 29,\n",
       " 'Haider': 43,\n",
       " 'Nadir': 52,\n",
       " 'Mahnoor': 45}"
      ]
     },
     "execution_count": 198,
     "metadata": {},
     "output_type": "execute_result"
    }
   ],
   "source": [
    "dic_2={'Haider': 43, 'Nadir': 52, 'Mahnoor': 45}\n",
    "dic_1.update(dic_2)\n",
    "dic_1"
   ]
  },
  {
   "cell_type": "code",
   "execution_count": 200,
   "id": "d2a02077-60ae-4d27-9708-4ec397598efe",
   "metadata": {},
   "outputs": [
    {
     "data": {
      "text/plain": [
       "{'Hamid': 24,\n",
       " 'Nind': 24,\n",
       " 'Mansoor': 28,\n",
       " 'Muiz': 26,\n",
       " 'Faisal': 29,\n",
       " 'Haider': 43,\n",
       " 'Mahnoor': 45}"
      ]
     },
     "execution_count": 200,
     "metadata": {},
     "output_type": "execute_result"
    }
   ],
   "source": [
    "### Popping an element \n",
    "dic_1.pop(\"Nadir\")\n",
    "dic_1"
   ]
  },
  {
   "cell_type": "markdown",
   "id": "dd3533fa-9d3c-481c-befa-6361013addfc",
   "metadata": {},
   "source": [
    "# Set in Python"
   ]
  },
  {
   "cell_type": "markdown",
   "id": "4bf8f1b1-a188-4b88-b2f6-487d81606eeb",
   "metadata": {},
   "source": [
    "#### Set in an unordered and unindexed collection of elements enclosed {}\n",
    "#### Duplicates are not allowed in set"
   ]
  },
  {
   "cell_type": "code",
   "execution_count": 206,
   "id": "5847e150-b0aa-4916-a8d0-8ebd3d0fa35f",
   "metadata": {},
   "outputs": [
    {
     "data": {
      "text/plain": [
       "{1, 2, 'Hamid', 'Khan'}"
      ]
     },
     "execution_count": 206,
     "metadata": {},
     "output_type": "execute_result"
    }
   ],
   "source": [
    "set_1 = { 1,2,1,'Hamid', \"Khan\", \"Hamid\"}\n",
    "set_1"
   ]
  },
  {
   "cell_type": "markdown",
   "id": "bc2ee70e-70ad-4a50-b8b2-a55f34c3e3c5",
   "metadata": {},
   "source": [
    "### Adding a new element "
   ]
  },
  {
   "cell_type": "code",
   "execution_count": 209,
   "id": "fad0810d-88c2-4355-9e68-b7c0003eda62",
   "metadata": {},
   "outputs": [
    {
     "data": {
      "text/plain": [
       "{1, 2, 'Hamid', 'Khan', 'Niazi'}"
      ]
     },
     "execution_count": 209,
     "metadata": {},
     "output_type": "execute_result"
    }
   ],
   "source": [
    "set_1.add('Niazi')\n",
    "set_1"
   ]
  },
  {
   "cell_type": "markdown",
   "id": "50a40567-4383-4782-9b1f-fd15361bfc0e",
   "metadata": {},
   "source": [
    "### Updating multiple elements"
   ]
  },
  {
   "cell_type": "code",
   "execution_count": 216,
   "id": "f26732c1-9aa4-4571-95f9-504440794e05",
   "metadata": {},
   "outputs": [
    {
     "data": {
      "text/plain": [
       "{' ',\n",
       " 1,\n",
       " 2,\n",
       " 'A',\n",
       " 'B',\n",
       " 'F',\n",
       " 'From',\n",
       " 'Hamid',\n",
       " 'I',\n",
       " 'Khan',\n",
       " 'L',\n",
       " 'Living in Islamabad',\n",
       " 'M',\n",
       " 'Mianwali',\n",
       " 'Niazi',\n",
       " 'S',\n",
       " 'a',\n",
       " 'b',\n",
       " 'd',\n",
       " 'doing MS BA',\n",
       " 'g',\n",
       " 'i',\n",
       " 'l',\n",
       " 'm',\n",
       " 'n',\n",
       " 'o',\n",
       " 'r',\n",
       " 's',\n",
       " 'v',\n",
       " 'w'}"
      ]
     },
     "execution_count": 216,
     "metadata": {},
     "output_type": "execute_result"
    }
   ],
   "source": [
    "set_1.update(['From', 'Mianwali', 'Living in Islamabad'])\n",
    "set_1"
   ]
  },
  {
   "cell_type": "markdown",
   "id": "4866d725-2a82-480e-9d13-fb4ec139fe59",
   "metadata": {},
   "source": [
    "### Removing an element "
   ]
  },
  {
   "cell_type": "code",
   "execution_count": 219,
   "id": "eeb35eec-8915-455d-9776-f85a5a78fb21",
   "metadata": {},
   "outputs": [
    {
     "data": {
      "text/plain": [
       "{' ',\n",
       " 1,\n",
       " 2,\n",
       " 'A',\n",
       " 'B',\n",
       " 'F',\n",
       " 'From',\n",
       " 'I',\n",
       " 'Khan',\n",
       " 'L',\n",
       " 'Living in Islamabad',\n",
       " 'M',\n",
       " 'Mianwali',\n",
       " 'Niazi',\n",
       " 'S',\n",
       " 'a',\n",
       " 'b',\n",
       " 'd',\n",
       " 'doing MS BA',\n",
       " 'g',\n",
       " 'i',\n",
       " 'l',\n",
       " 'm',\n",
       " 'n',\n",
       " 'o',\n",
       " 'r',\n",
       " 's',\n",
       " 'v',\n",
       " 'w'}"
      ]
     },
     "execution_count": 219,
     "metadata": {},
     "output_type": "execute_result"
    }
   ],
   "source": [
    "set_1.remove('Hamid')\n",
    "set_1"
   ]
  },
  {
   "cell_type": "markdown",
   "id": "520d3b1e-dc77-4927-9d2c-0cde0d404eec",
   "metadata": {},
   "source": [
    "### Union of two set"
   ]
  },
  {
   "cell_type": "code",
   "execution_count": 222,
   "id": "fb75de76-bf3d-4ac9-b580-f4bfc4e72c14",
   "metadata": {},
   "outputs": [
    {
     "data": {
      "text/plain": [
       "{1, 2, 3, 4, 5, 6}"
      ]
     },
     "execution_count": 222,
     "metadata": {},
     "output_type": "execute_result"
    }
   ],
   "source": [
    "s1 = {1,2,3}\n",
    "s2 = {4,5,6}\n",
    "s1.union(s2)"
   ]
  },
  {
   "cell_type": "code",
   "execution_count": 224,
   "id": "1ca4efd2-7010-449f-b303-78587101045f",
   "metadata": {},
   "outputs": [
    {
     "data": {
      "text/plain": [
       "{2, 3, 5}"
      ]
     },
     "execution_count": 224,
     "metadata": {},
     "output_type": "execute_result"
    }
   ],
   "source": [
    "s3= {1,2,3,5}\n",
    "s4 = {2,3,4,5,6}\n",
    "s3.intersection(s4)"
   ]
  },
  {
   "cell_type": "markdown",
   "id": "672a9305-d36a-438e-89ad-ffb57cd9ddfc",
   "metadata": {},
   "source": [
    "# If Statement in Python"
   ]
  },
  {
   "cell_type": "markdown",
   "id": "6149f095-30ca-424f-8c30-e3f83da7ebb7",
   "metadata": {},
   "source": [
    "### If condition is applied when we have conditions"
   ]
  },
  {
   "cell_type": "markdown",
   "id": "c5d02706-d124-45de-a202-cd9815f71454",
   "metadata": {},
   "source": [
    "#### Simple if "
   ]
  },
  {
   "cell_type": "code",
   "execution_count": 240,
   "id": "f52556a2-328f-4db2-ab39-b931db5c6274",
   "metadata": {},
   "outputs": [],
   "source": [
    "a = 30\n",
    "b = 20"
   ]
  },
  {
   "cell_type": "code",
   "execution_count": 242,
   "id": "ab66ff9a-d36d-478c-b47e-0762f2f0d65a",
   "metadata": {},
   "outputs": [
    {
     "name": "stdout",
     "output_type": "stream",
     "text": [
      "a in greater then b\n"
     ]
    }
   ],
   "source": [
    "if a > b:\n",
    "    print('a in greater then b')\n",
    "    "
   ]
  },
  {
   "cell_type": "markdown",
   "id": "7845e55c-1417-4126-bcf2-7feae4ca2baf",
   "metadata": {},
   "source": [
    "#### If else"
   ]
  },
  {
   "cell_type": "code",
   "execution_count": 247,
   "id": "fe8a1a9b-ac9b-407f-b8b0-00e72290bc7b",
   "metadata": {},
   "outputs": [
    {
     "name": "stdout",
     "output_type": "stream",
     "text": [
      "a is lesser\n"
     ]
    }
   ],
   "source": [
    "if a < b:\n",
    "    print('a is greater')\n",
    "else:\n",
    "    print('a is lesser')"
   ]
  },
  {
   "cell_type": "markdown",
   "id": "90fce519-9e2e-47f0-8bc5-1382f2b383f1",
   "metadata": {},
   "source": [
    "### Elif (if else, else)"
   ]
  },
  {
   "cell_type": "code",
   "execution_count": 250,
   "id": "ad9ab510-871e-4cb5-aa09-06e1870849fd",
   "metadata": {},
   "outputs": [],
   "source": [
    "c = 30"
   ]
  },
  {
   "cell_type": "code",
   "execution_count": 260,
   "id": "c10bcd39-1d7f-49a0-9553-0920354943ca",
   "metadata": {},
   "outputs": [
    {
     "name": "stdout",
     "output_type": "stream",
     "text": [
      "a is equal to b or c\n"
     ]
    }
   ],
   "source": [
    "if (a > b) and (a > c):\n",
    "    print(\"a is greater\")\n",
    "elif (a == b) or (a == c):  \n",
    "    print('a is equal to b or c')\n",
    "else:\n",
    "    print('a is less')"
   ]
  },
  {
   "cell_type": "markdown",
   "id": "bb2c6c91-01d8-431c-97f1-793265252f2d",
   "metadata": {},
   "source": [
    "### 1. Using if-else with a Tuple"
   ]
  },
  {
   "cell_type": "code",
   "execution_count": 266,
   "id": "870dd299-06d0-4c54-8b4d-836fc4d7c7bf",
   "metadata": {},
   "outputs": [
    {
     "name": "stdout",
     "output_type": "stream",
     "text": [
      "The first element is not greater than 15.\n"
     ]
    }
   ],
   "source": [
    "my_tuple = (10, 20, 30)\n",
    "if my_tuple[0] > 15:\n",
    "    print(\"The first element is greater than 15.\")\n",
    "else:\n",
    "    print(\"The first element is not greater than 15.\")\n"
   ]
  },
  {
   "cell_type": "markdown",
   "id": "f87487f1-ae75-47f9-9c4b-b3c7273b583b",
   "metadata": {},
   "source": [
    "### 2. Using if-else with a List"
   ]
  },
  {
   "cell_type": "code",
   "execution_count": 268,
   "id": "ac926164-3c41-440c-b6b9-e55a930a3bd5",
   "metadata": {},
   "outputs": [
    {
     "name": "stdout",
     "output_type": "stream",
     "text": [
      "The second element is less than 20.\n"
     ]
    }
   ],
   "source": [
    "my_list = [5, 15, 25]\n",
    "if my_list[1] < 20:\n",
    "    print(\"The second element is less than 20.\")\n",
    "else:\n",
    "    print(\"The second element is not less than 20.\")\n"
   ]
  },
  {
   "cell_type": "markdown",
   "id": "8f0f23c5-647d-45bb-93c2-b73831e2f15d",
   "metadata": {},
   "source": [
    "### 3. Using if-else with a Dictionary"
   ]
  },
  {
   "cell_type": "code",
   "execution_count": 271,
   "id": "d6d2b5b9-0bd3-48a1-aaaf-cd474f7ece35",
   "metadata": {},
   "outputs": [
    {
     "name": "stdout",
     "output_type": "stream",
     "text": [
      "The value of key 'b' is 200.\n"
     ]
    }
   ],
   "source": [
    "my_dict = {'a': 100, 'b': 200}\n",
    "if my_dict['b'] == 200:\n",
    "    print(\"The value of key 'b' is 200.\")\n",
    "else:\n",
    "    print(\"The value of key 'b' is not 200.\")"
   ]
  },
  {
   "cell_type": "markdown",
   "id": "d58dabeb-db82-460c-8624-dd0cae02932d",
   "metadata": {},
   "source": [
    "# Looping Statements in Python"
   ]
  },
  {
   "cell_type": "markdown",
   "id": "5462ef62-59f4-42d9-a623-7038ada8ed6b",
   "metadata": {},
   "source": [
    "### Looping statements are used to repeat the cetain tasks multiple times. We have 'For' and 'While' loops"
   ]
  },
  {
   "cell_type": "markdown",
   "id": "745788ad-5d2c-43c3-bee7-ef508f90ceb9",
   "metadata": {},
   "source": [
    "## While Loop"
   ]
  },
  {
   "cell_type": "code",
   "execution_count": 278,
   "id": "3a7a5b61-e854-4992-9ee4-d10a6f02a8f6",
   "metadata": {},
   "outputs": [
    {
     "name": "stdout",
     "output_type": "stream",
     "text": [
      "1\n",
      "2\n",
      "3\n",
      "4\n",
      "5\n",
      "6\n",
      "7\n",
      "8\n",
      "9\n",
      "10\n",
      "11\n",
      "12\n",
      "13\n",
      "14\n",
      "15\n"
     ]
    }
   ],
   "source": [
    "counter = 1\n",
    "while counter <= 15:\n",
    "    print(counter) \n",
    "    counter += 1    "
   ]
  },
  {
   "cell_type": "markdown",
   "id": "9ad89486-58c7-47b2-9b8c-b23709609032",
   "metadata": {},
   "source": [
    "### While loop for List"
   ]
  },
  {
   "cell_type": "code",
   "execution_count": 283,
   "id": "1325ce06-4dad-449d-8b95-7f53d44b09b7",
   "metadata": {},
   "outputs": [
    {
     "name": "stdout",
     "output_type": "stream",
     "text": [
      "10\n",
      "20\n",
      "30\n",
      "40\n",
      "50\n"
     ]
    }
   ],
   "source": [
    "my_list = [10, 20, 30, 40, 50]\n",
    "index = 0\n",
    "while index < len(my_list):\n",
    "    print(my_list[index])\n",
    "    index += 1\n"
   ]
  },
  {
   "cell_type": "markdown",
   "id": "66c3c2d7-4c6a-4485-a73f-582920f69c78",
   "metadata": {},
   "source": [
    "## For Loop"
   ]
  },
  {
   "cell_type": "code",
   "execution_count": 285,
   "id": "756ac7ca-9504-44dd-824e-4bedfd0bfba2",
   "metadata": {},
   "outputs": [
    {
     "name": "stdout",
     "output_type": "stream",
     "text": [
      "1\n",
      "2\n",
      "3\n",
      "4\n",
      "5\n"
     ]
    }
   ],
   "source": [
    "for i in range(1, 6):\n",
    "    print(i)\n"
   ]
  },
  {
   "cell_type": "markdown",
   "id": "c75933b6-91b7-4e57-ae76-f4cde40c8e7b",
   "metadata": {},
   "source": [
    "### For Loop for list"
   ]
  },
  {
   "cell_type": "code",
   "execution_count": 289,
   "id": "79d173e1-0720-4581-9dce-b386d9d957bd",
   "metadata": {},
   "outputs": [
    {
     "name": "stdout",
     "output_type": "stream",
     "text": [
      "apple\n",
      "banana\n",
      "cherry\n",
      "date\n"
     ]
    }
   ],
   "source": [
    "fruits = [\"apple\", \"banana\", \"cherry\", \"date\"]\n",
    "for fruit in fruits:\n",
    "    print(fruit)\n"
   ]
  },
  {
   "cell_type": "markdown",
   "id": "1b662591-ba37-4874-b84b-582eddb9f1c7",
   "metadata": {},
   "source": [
    "# Basic Problems in Python"
   ]
  },
  {
   "cell_type": "code",
   "execution_count": 292,
   "id": "4d0da9d2-3d81-4b3d-b50e-f35b38a20c26",
   "metadata": {},
   "outputs": [],
   "source": [
    "## Checking even add odd"
   ]
  },
  {
   "cell_type": "code",
   "execution_count": 294,
   "id": "095a6a30-b70e-4d1c-b13a-6d7cd5bdb368",
   "metadata": {},
   "outputs": [
    {
     "name": "stdin",
     "output_type": "stream",
     "text": [
      "Enter a number:  23\n"
     ]
    },
    {
     "name": "stdout",
     "output_type": "stream",
     "text": [
      "The number 23 is Odd.\n"
     ]
    }
   ],
   "source": [
    "def check_even_odd(number):\n",
    "    if number % 2 == 0:\n",
    "        return \"Even\"\n",
    "    else:\n",
    "        return \"Odd\"\n",
    "\n",
    "num = int(input(\"Enter a number: \"))\n",
    "result = check_even_odd(num)\n",
    "print(f\"The number {num} is {result}.\")\n"
   ]
  },
  {
   "cell_type": "code",
   "execution_count": 296,
   "id": "ce7447e5-cbe0-46e5-b3db-747c3cf6a50c",
   "metadata": {},
   "outputs": [],
   "source": [
    "## Checking number +ve, -ve and 0"
   ]
  },
  {
   "cell_type": "code",
   "execution_count": 298,
   "id": "50f19744-f49c-4d05-b1f1-1a0b264c40f7",
   "metadata": {},
   "outputs": [
    {
     "name": "stdin",
     "output_type": "stream",
     "text": [
      "Enter a number:  4\n"
     ]
    },
    {
     "name": "stdout",
     "output_type": "stream",
     "text": [
      "The number 4.0 is Positive.\n"
     ]
    }
   ],
   "source": [
    "def check_number(num):\n",
    "    if num > 0:\n",
    "        return \"Positive\"\n",
    "    elif num < 0:\n",
    "        return \"Negative\"\n",
    "    else:\n",
    "        return \"Zero\"\n",
    "\n",
    "\n",
    "number = float(input(\"Enter a number: \"))\n",
    "result = check_number(number)\n",
    "print(f\"The number {number} is {result}.\")\n"
   ]
  },
  {
   "cell_type": "code",
   "execution_count": 300,
   "id": "912302ce-10ae-450d-8f62-99df8a47927f",
   "metadata": {},
   "outputs": [],
   "source": [
    "## Factorial of number"
   ]
  },
  {
   "cell_type": "code",
   "execution_count": 302,
   "id": "05b13fc2-d172-45da-bfb1-8ee899dea9b0",
   "metadata": {},
   "outputs": [
    {
     "name": "stdout",
     "output_type": "stream",
     "text": [
      "The factorial of 5 is 120\n"
     ]
    }
   ],
   "source": [
    "def factorial(n):\n",
    "    if n < 0:\n",
    "        return \"Factorial is not defined for negative numbers.\"\n",
    "    elif n == 0 or n == 1:\n",
    "        return 1\n",
    "    else:\n",
    "        return n * factorial(n - 1)\n",
    "\n",
    "number = 5\n",
    "print(f\"The factorial of {number} is {factorial(number)}\")\n"
   ]
  },
  {
   "cell_type": "code",
   "execution_count": 304,
   "id": "df874f95-8560-4503-ab93-0d510d53e449",
   "metadata": {},
   "outputs": [],
   "source": [
    "## Check if it plandraine"
   ]
  },
  {
   "cell_type": "code",
   "execution_count": 306,
   "id": "1393823f-6d46-4e92-b480-6c5d11b9be05",
   "metadata": {},
   "outputs": [
    {
     "name": "stdin",
     "output_type": "stream",
     "text": [
      "Enter a string:  3\n"
     ]
    },
    {
     "name": "stdout",
     "output_type": "stream",
     "text": [
      "\"3\" is a palindrome.\n"
     ]
    }
   ],
   "source": [
    "def is_palindrome(string):\n",
    "    cleaned_string = ''.join(string.split()).lower()\n",
    "    return cleaned_string == cleaned_string[::-1]\n",
    "\n",
    "input_string = input(\"Enter a string: \")\n",
    "if is_palindrome(input_string):\n",
    "    print(f'\"{input_string}\" is a palindrome.')\n",
    "else:\n",
    "    print(f'\"{input_string}\" is not a palindrome.')\n"
   ]
  },
  {
   "cell_type": "markdown",
   "id": "9e5622a8-1745-41ea-8edd-68397c01919d",
   "metadata": {},
   "source": [
    "# Functions in Python"
   ]
  },
  {
   "cell_type": "code",
   "execution_count": 309,
   "id": "545052f4-6e01-4038-b164-f1b13f835ea5",
   "metadata": {},
   "outputs": [],
   "source": [
    "## 1. Calculate Factorial"
   ]
  },
  {
   "cell_type": "code",
   "execution_count": 311,
   "id": "8eed6d85-eb41-493e-bf20-a324ce34b701",
   "metadata": {},
   "outputs": [
    {
     "name": "stdout",
     "output_type": "stream",
     "text": [
      "The factorial of 5 is 120\n"
     ]
    }
   ],
   "source": [
    "def factorial(n):\n",
    "    if n == 0 or n == 1:\n",
    "        return 1\n",
    "    else:\n",
    "        return n * factorial(n - 1)\n",
    "\n",
    "\n",
    "num = 5\n",
    "print(f\"The factorial of {num} is {factorial(num)}\")\n"
   ]
  },
  {
   "cell_type": "code",
   "execution_count": 313,
   "id": "c36374b0-5ffd-499d-b788-0085a82665fc",
   "metadata": {},
   "outputs": [],
   "source": [
    "## 2. Check for Prime Number"
   ]
  },
  {
   "cell_type": "code",
   "execution_count": 315,
   "id": "b7982564-6cfc-489b-b834-1a9e9d31696a",
   "metadata": {},
   "outputs": [
    {
     "name": "stdout",
     "output_type": "stream",
     "text": [
      "17 is a prime number: True\n"
     ]
    }
   ],
   "source": [
    "def is_prime(num):\n",
    "    if num <= 1:\n",
    "        return False\n",
    "    for i in range(2, int(num ** 0.5) + 1):\n",
    "        if num % i == 0:\n",
    "            return False\n",
    "    return True\n",
    "\n",
    "\n",
    "number = 17\n",
    "print(f\"{number} is a prime number: {is_prime(number)}\")\n"
   ]
  },
  {
   "cell_type": "code",
   "execution_count": 317,
   "id": "85b3a1fd-f110-44b0-8ab1-7a7b538c0b87",
   "metadata": {},
   "outputs": [],
   "source": [
    "## 3. Count Vowels in a String"
   ]
  },
  {
   "cell_type": "code",
   "execution_count": 319,
   "id": "5ed647e7-71c3-469a-86b4-676c9ef8c298",
   "metadata": {},
   "outputs": [
    {
     "name": "stdout",
     "output_type": "stream",
     "text": [
      "Number of vowels in the string: 13\n"
     ]
    }
   ],
   "source": [
    "def count_vowels(string):\n",
    "    vowels = 'aeiouAEIOU'\n",
    "    count = sum(1 for char in string if char in vowels)\n",
    "    return count\n",
    "\n",
    "\n",
    "\n",
    "test_string = \"Hello, how many vowels are in this sentence?\"\n",
    "print(f\"Number of vowels in the string: {count_vowels(test_string)}\")\n"
   ]
  },
  {
   "cell_type": "markdown",
   "id": "896092a3-6001-49b4-bf36-f92e7dae5e08",
   "metadata": {},
   "source": [
    "# THE END # "
   ]
  },
  {
   "cell_type": "code",
   "execution_count": null,
   "id": "0114f145-3580-476b-a988-cffa85543284",
   "metadata": {},
   "outputs": [],
   "source": []
  }
 ],
 "metadata": {
  "kernelspec": {
   "display_name": "Python 3 (ipykernel)",
   "language": "python",
   "name": "python3"
  },
  "language_info": {
   "codemirror_mode": {
    "name": "ipython",
    "version": 3
   },
   "file_extension": ".py",
   "mimetype": "text/x-python",
   "name": "python",
   "nbconvert_exporter": "python",
   "pygments_lexer": "ipython3",
   "version": "3.12.4"
  }
 },
 "nbformat": 4,
 "nbformat_minor": 5
}
